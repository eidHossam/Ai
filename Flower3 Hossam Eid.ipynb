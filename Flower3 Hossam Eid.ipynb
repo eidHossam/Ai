{
  "nbformat": 4,
  "nbformat_minor": 0,
  "metadata": {
    "colab": {
      "name": "Flower3.ipynb",
      "provenance": [],
      "collapsed_sections": []
    },
    "kernelspec": {
      "name": "python3",
      "display_name": "Python 3"
    },
    "language_info": {
      "name": "python"
    },
    "accelerator": "GPU",
    "gpuClass": "standard"
  },
  "cells": [
    {
      "cell_type": "code",
      "execution_count": 69,
      "metadata": {
        "id": "rpAPAO6fYCjB"
      },
      "outputs": [],
      "source": [
        "import pandas as pd\n",
        "import numpy as np\n",
        "import tensorflow as tf\n",
        "import matplotlib.pyplot as plt"
      ]
    },
    {
      "cell_type": "markdown",
      "source": [
        "First of all we need to import the required libraries \n",
        "\n",
        "pandas,numpy, and matplotlib.pyplot are data visualisation and manipulation libraries.\n",
        "\n",
        "tensorflow is our deeplearning library.\n"
      ],
      "metadata": {
        "id": "8NKIOslKHYB9"
      }
    },
    {
      "cell_type": "code",
      "source": [
        "data_url = 'https://storage.googleapis.com/download.tensorflow.org/example_images/flower_photos.tgz' #importing the data from the link \n",
        "data_dir = tf.keras.utils.get_file(fname= 'flower_photos', origin= data_url, untar= True)"
      ],
      "metadata": {
        "id": "NKmJUWAFYKyW"
      },
      "execution_count": 70,
      "outputs": []
    },
    {
      "cell_type": "markdown",
      "source": [
        "Here we are importing the required data from the web then making a directory for it on our system "
      ],
      "metadata": {
        "id": "3sNCBB3IJEkH"
      }
    },
    {
      "cell_type": "code",
      "source": [
        "import pathlib"
      ],
      "metadata": {
        "id": "_VPyGzAMJNLH"
      },
      "execution_count": 71,
      "outputs": []
    },
    {
      "cell_type": "markdown",
      "source": [
        "This library is used for exploring the directories both your local directories and also the directories on the web"
      ],
      "metadata": {
        "id": "wN0wPhgTJjlL"
      }
    },
    {
      "cell_type": "code",
      "source": [
        "data_file = pathlib.Path(data_dir)"
      ],
      "metadata": {
        "id": "Ft4NQ-1OY3jw"
      },
      "execution_count": 72,
      "outputs": []
    },
    {
      "cell_type": "markdown",
      "source": [
        "Then we made a file to contain all our data."
      ],
      "metadata": {
        "id": "oumdI9_QJ8XU"
      }
    },
    {
      "cell_type": "code",
      "source": [
        "list(data_file.glob('*/')) #showing the files in the link "
      ],
      "metadata": {
        "colab": {
          "base_uri": "https://localhost:8080/"
        },
        "id": "m7v_Ca0TY8pK",
        "outputId": "cd02c7ce-e5d5-46f1-ca5d-dd6b32422888"
      },
      "execution_count": null,
      "outputs": [
        {
          "output_type": "execute_result",
          "data": {
            "text/plain": [
              "[PosixPath('/root/.keras/datasets/flower_photos/sunflowers'),\n",
              " PosixPath('/root/.keras/datasets/flower_photos/tulips'),\n",
              " PosixPath('/root/.keras/datasets/flower_photos/dandelion'),\n",
              " PosixPath('/root/.keras/datasets/flower_photos/LICENSE.txt'),\n",
              " PosixPath('/root/.keras/datasets/flower_photos/roses'),\n",
              " PosixPath('/root/.keras/datasets/flower_photos/daisy')]"
            ]
          },
          "metadata": {},
          "execution_count": 5
        }
      ]
    },
    {
      "cell_type": "markdown",
      "source": [
        "Here we try to see what's actually in our file we found that it contains another 5 folders each of them have a different type of flower."
      ],
      "metadata": {
        "id": "WDFAw7QFKAex"
      }
    },
    {
      "cell_type": "code",
      "source": [
        "list(data_file.glob('*/*')) #showing all the contents of all the files "
      ],
      "metadata": {
        "colab": {
          "base_uri": "https://localhost:8080/"
        },
        "id": "OEfjo0-TzXnx",
        "outputId": "cac145c8-bb1d-46b3-9206-2e2d6ec5f7b6"
      },
      "execution_count": null,
      "outputs": [
        {
          "output_type": "execute_result",
          "data": {
            "text/plain": [
              "[PosixPath('/root/.keras/datasets/flower_photos/sunflowers/6606817351_10f6e43a09.jpg'),\n",
              " PosixPath('/root/.keras/datasets/flower_photos/sunflowers/6125761554_4e72819ce4_m.jpg'),\n",
              " PosixPath('/root/.keras/datasets/flower_photos/sunflowers/8929274876_17efc1774a_n.jpg'),\n",
              " PosixPath('/root/.keras/datasets/flower_photos/sunflowers/4977385375_e271e282f9.jpg'),\n",
              " PosixPath('/root/.keras/datasets/flower_photos/sunflowers/9111896677_ff0b6fa6f6_n.jpg'),\n",
              " PosixPath('/root/.keras/datasets/flower_photos/sunflowers/4804434999_bf2187e96a_n.jpg'),\n",
              " PosixPath('/root/.keras/datasets/flower_photos/sunflowers/8038712786_5bdeed3c7f_m.jpg'),\n",
              " PosixPath('/root/.keras/datasets/flower_photos/sunflowers/6482016425_d8fab362f6.jpg'),\n",
              " PosixPath('/root/.keras/datasets/flower_photos/sunflowers/1244774242_25a20d99a9.jpg'),\n",
              " PosixPath('/root/.keras/datasets/flower_photos/sunflowers/2883115609_5a69357b5d_m.jpg'),\n",
              " PosixPath('/root/.keras/datasets/flower_photos/sunflowers/23204123212_ef32fbafbe.jpg'),\n",
              " PosixPath('/root/.keras/datasets/flower_photos/sunflowers/5979111025_3bcae48ae6_n.jpg'),\n",
              " PosixPath('/root/.keras/datasets/flower_photos/sunflowers/15042911059_b6153d94e7_n.jpg'),\n",
              " PosixPath('/root/.keras/datasets/flower_photos/sunflowers/8041242566_752def876e_n.jpg'),\n",
              " PosixPath('/root/.keras/datasets/flower_photos/sunflowers/16967372357_15b1b9a812_n.jpg'),\n",
              " PosixPath('/root/.keras/datasets/flower_photos/sunflowers/20156280765_a6baea3176.jpg'),\n",
              " PosixPath('/root/.keras/datasets/flower_photos/sunflowers/11881770944_22b4f2f8f6_n.jpg'),\n",
              " PosixPath('/root/.keras/datasets/flower_photos/sunflowers/5043409856_395300dbe5_m.jpg'),\n",
              " PosixPath('/root/.keras/datasets/flower_photos/sunflowers/23247483352_0defc7a6dc_n.jpg'),\n",
              " PosixPath('/root/.keras/datasets/flower_photos/sunflowers/16832961488_5f7e70eb5e_n.jpg'),\n",
              " PosixPath('/root/.keras/datasets/flower_photos/sunflowers/4933229479_c1708bd503.jpg'),\n",
              " PosixPath('/root/.keras/datasets/flower_photos/sunflowers/15118243470_7e0a7f159c_n.jpg'),\n",
              " PosixPath('/root/.keras/datasets/flower_photos/sunflowers/9588522189_db6166f67f.jpg'),\n",
              " PosixPath('/root/.keras/datasets/flower_photos/sunflowers/45045003_30bbd0a142_m.jpg'),\n",
              " PosixPath('/root/.keras/datasets/flower_photos/sunflowers/151898652_b5f1c70b98_n.jpg'),\n",
              " PosixPath('/root/.keras/datasets/flower_photos/sunflowers/15472217046_2699b25584.jpg'),\n",
              " PosixPath('/root/.keras/datasets/flower_photos/sunflowers/1267876087_a1b3c63dc9.jpg'),\n",
              " PosixPath('/root/.keras/datasets/flower_photos/sunflowers/5967283168_90dd4daf28_n.jpg'),\n",
              " PosixPath('/root/.keras/datasets/flower_photos/sunflowers/6141150299_b46a64e4de.jpg'),\n",
              " PosixPath('/root/.keras/datasets/flower_photos/sunflowers/15460162172_014bcce403.jpg'),\n",
              " PosixPath('/root/.keras/datasets/flower_photos/sunflowers/4927658421_7eed83bc95_m.jpg'),\n",
              " PosixPath('/root/.keras/datasets/flower_photos/sunflowers/4933823922_911ac40b0d.jpg'),\n",
              " PosixPath('/root/.keras/datasets/flower_photos/sunflowers/8174972548_0051c2d431.jpg'),\n",
              " PosixPath('/root/.keras/datasets/flower_photos/sunflowers/18972803569_1a0634f398_m.jpg'),\n",
              " PosixPath('/root/.keras/datasets/flower_photos/sunflowers/8265023280_713f2c69d0_m.jpg'),\n",
              " PosixPath('/root/.keras/datasets/flower_photos/sunflowers/4872892690_52dc25b0b4.jpg'),\n",
              " PosixPath('/root/.keras/datasets/flower_photos/sunflowers/19595718862_c68896370c_m.jpg'),\n",
              " PosixPath('/root/.keras/datasets/flower_photos/sunflowers/200557981_f800fa1af9.jpg'),\n",
              " PosixPath('/root/.keras/datasets/flower_photos/sunflowers/22429946721_e17a12cb39_n.jpg'),\n",
              " PosixPath('/root/.keras/datasets/flower_photos/sunflowers/15495579081_661cb260d1_n.jpg'),\n",
              " PosixPath('/root/.keras/datasets/flower_photos/sunflowers/10386702973_e74a34c806_n.jpg'),\n",
              " PosixPath('/root/.keras/datasets/flower_photos/sunflowers/3950020811_dab89bebc0_n.jpg'),\n",
              " PosixPath('/root/.keras/datasets/flower_photos/sunflowers/5923649444_a823e534e9.jpg'),\n",
              " PosixPath('/root/.keras/datasets/flower_photos/sunflowers/8174941335_56389b53e9_n.jpg'),\n",
              " PosixPath('/root/.keras/datasets/flower_photos/sunflowers/3575811488_a31714472a.jpg'),\n",
              " PosixPath('/root/.keras/datasets/flower_photos/sunflowers/14397276020_49f9423614.jpg'),\n",
              " PosixPath('/root/.keras/datasets/flower_photos/sunflowers/4625255191_26e17a28c9_n.jpg'),\n",
              " PosixPath('/root/.keras/datasets/flower_photos/sunflowers/4869189730_f47c124cda_n.jpg'),\n",
              " PosixPath('/root/.keras/datasets/flower_photos/sunflowers/19504937128_a4ae90fcbd_m.jpg'),\n",
              " PosixPath('/root/.keras/datasets/flower_photos/sunflowers/9461693602_710f20904f.jpg'),\n",
              " PosixPath('/root/.keras/datasets/flower_photos/sunflowers/6606741847_f0198d83ff.jpg'),\n",
              " PosixPath('/root/.keras/datasets/flower_photos/sunflowers/4813483281_f3707a71e7_n.jpg'),\n",
              " PosixPath('/root/.keras/datasets/flower_photos/sunflowers/40410963_3ac280f23a_n.jpg'),\n",
              " PosixPath('/root/.keras/datasets/flower_photos/sunflowers/8929288228_6795bcb1fe.jpg'),\n",
              " PosixPath('/root/.keras/datasets/flower_photos/sunflowers/5020805135_1219d7523d.jpg'),\n",
              " PosixPath('/root/.keras/datasets/flower_photos/sunflowers/4110787181_f73f12d107_m.jpg'),\n",
              " PosixPath('/root/.keras/datasets/flower_photos/sunflowers/7728953426_abd179ab63.jpg'),\n",
              " PosixPath('/root/.keras/datasets/flower_photos/sunflowers/3897174387_07aac6bf5f_n.jpg'),\n",
              " PosixPath('/root/.keras/datasets/flower_photos/sunflowers/9783416751_b2a03920f7_n.jpg'),\n",
              " PosixPath('/root/.keras/datasets/flower_photos/sunflowers/197011740_21825de2bf.jpg'),\n",
              " PosixPath('/root/.keras/datasets/flower_photos/sunflowers/4160805260_cf758daeae_n.jpg'),\n",
              " PosixPath('/root/.keras/datasets/flower_photos/sunflowers/9302733302_2cb92cf275.jpg'),\n",
              " PosixPath('/root/.keras/datasets/flower_photos/sunflowers/5339004958_a0a6f385fd_m.jpg'),\n",
              " PosixPath('/root/.keras/datasets/flower_photos/sunflowers/3815322974_52c12dbde3.jpg'),\n",
              " PosixPath('/root/.keras/datasets/flower_photos/sunflowers/1240624822_4111dde542.jpg'),\n",
              " PosixPath('/root/.keras/datasets/flower_photos/sunflowers/5492906452_80943bfd04.jpg'),\n",
              " PosixPath('/root/.keras/datasets/flower_photos/sunflowers/22203670478_9ec5c2700b_n.jpg'),\n",
              " PosixPath('/root/.keras/datasets/flower_photos/sunflowers/19519101829_46af0b4547_m.jpg'),\n",
              " PosixPath('/root/.keras/datasets/flower_photos/sunflowers/2425164088_4a5d2cdf21_n.jpg'),\n",
              " PosixPath('/root/.keras/datasets/flower_photos/sunflowers/2575272111_f04d79b9af_n.jpg'),\n",
              " PosixPath('/root/.keras/datasets/flower_photos/sunflowers/4933229095_f7e4218b28.jpg'),\n",
              " PosixPath('/root/.keras/datasets/flower_photos/sunflowers/20406385204_469f6749e2_n.jpg'),\n",
              " PosixPath('/root/.keras/datasets/flower_photos/sunflowers/175638423_058c07afb9.jpg'),\n",
              " PosixPath('/root/.keras/datasets/flower_photos/sunflowers/15266715291_dfa3f1d49f_n.jpg'),\n",
              " PosixPath('/root/.keras/datasets/flower_photos/sunflowers/5738580862_e128192f75.jpg'),\n",
              " PosixPath('/root/.keras/datasets/flower_photos/sunflowers/8192234807_fed4a46f1a_n.jpg'),\n",
              " PosixPath('/root/.keras/datasets/flower_photos/sunflowers/4933824012_8cbfe606f6.jpg'),\n",
              " PosixPath('/root/.keras/datasets/flower_photos/sunflowers/4191299785_a4faca9b74_n.jpg'),\n",
              " PosixPath('/root/.keras/datasets/flower_photos/sunflowers/18828277053_1493158b28.jpg'),\n",
              " PosixPath('/root/.keras/datasets/flower_photos/sunflowers/20078409301_aa8061bd0b_n.jpg'),\n",
              " PosixPath('/root/.keras/datasets/flower_photos/sunflowers/9558630626_52a1b7d702_m.jpg'),\n",
              " PosixPath('/root/.keras/datasets/flower_photos/sunflowers/4895124535_11a2bb704c_m.jpg'),\n",
              " PosixPath('/root/.keras/datasets/flower_photos/sunflowers/5025805406_033cb03475_n.jpg'),\n",
              " PosixPath('/root/.keras/datasets/flower_photos/sunflowers/5020805619_6c710793f7.jpg'),\n",
              " PosixPath('/root/.keras/datasets/flower_photos/sunflowers/22429146402_332fa2fc72_m.jpg'),\n",
              " PosixPath('/root/.keras/datasets/flower_photos/sunflowers/15207507116_8b7f894508_m.jpg'),\n",
              " PosixPath('/root/.keras/datasets/flower_photos/sunflowers/5231868667_f0baa71feb_n.jpg'),\n",
              " PosixPath('/root/.keras/datasets/flower_photos/sunflowers/2895404754_6d9f9416d7_n.jpg'),\n",
              " PosixPath('/root/.keras/datasets/flower_photos/sunflowers/15241431045_65201cf15a_n.jpg'),\n",
              " PosixPath('/root/.keras/datasets/flower_photos/sunflowers/274848710_5185cf33b1_n.jpg'),\n",
              " PosixPath('/root/.keras/datasets/flower_photos/sunflowers/17433282043_441b0a07f4_n.jpg'),\n",
              " PosixPath('/root/.keras/datasets/flower_photos/sunflowers/5223643767_d8beb7e410.jpg'),\n",
              " PosixPath('/root/.keras/datasets/flower_photos/sunflowers/9558627290_353a14ba0b_m.jpg'),\n",
              " PosixPath('/root/.keras/datasets/flower_photos/sunflowers/20344282483_05abb0b837.jpg'),\n",
              " PosixPath('/root/.keras/datasets/flower_photos/sunflowers/2759796022_55bd47bfa2_n.jpg'),\n",
              " PosixPath('/root/.keras/datasets/flower_photos/sunflowers/18250039435_7654bc11be_n.jpg'),\n",
              " PosixPath('/root/.keras/datasets/flower_photos/sunflowers/2588453601_66f2a03cca_n.jpg'),\n",
              " PosixPath('/root/.keras/datasets/flower_photos/sunflowers/164671753_ab36d9cbb7_n.jpg'),\n",
              " PosixPath('/root/.keras/datasets/flower_photos/sunflowers/5018120483_cc0421b176_m.jpg'),\n",
              " PosixPath('/root/.keras/datasets/flower_photos/sunflowers/9375675309_987d32f99e_n.jpg'),\n",
              " PosixPath('/root/.keras/datasets/flower_photos/sunflowers/20258015499_93b9951800_m.jpg'),\n",
              " PosixPath('/root/.keras/datasets/flower_photos/sunflowers/5526324308_b333da0e57_n.jpg'),\n",
              " PosixPath('/root/.keras/datasets/flower_photos/sunflowers/15054864508_0334b892be_m.jpg'),\n",
              " PosixPath('/root/.keras/datasets/flower_photos/sunflowers/5437996076_cf7e2ac32e_n.jpg'),\n",
              " PosixPath('/root/.keras/datasets/flower_photos/sunflowers/10386503264_e05387e1f7_m.jpg'),\n",
              " PosixPath('/root/.keras/datasets/flower_photos/sunflowers/4933824130_b99839a80d.jpg'),\n",
              " PosixPath('/root/.keras/datasets/flower_photos/sunflowers/16616096711_12375a0260_n.jpg'),\n",
              " PosixPath('/root/.keras/datasets/flower_photos/sunflowers/14881304632_54a9dfb8be.jpg'),\n",
              " PosixPath('/root/.keras/datasets/flower_photos/sunflowers/4019748730_ee09b39a43.jpg'),\n",
              " PosixPath('/root/.keras/datasets/flower_photos/sunflowers/20777375650_ef854bf645.jpg'),\n",
              " PosixPath('/root/.keras/datasets/flower_photos/sunflowers/4626721387_88f89d5cc9_n.jpg'),\n",
              " PosixPath('/root/.keras/datasets/flower_photos/sunflowers/5957007921_62333981d2_n.jpg'),\n",
              " PosixPath('/root/.keras/datasets/flower_photos/sunflowers/1485456230_58d8e45e88.jpg'),\n",
              " PosixPath('/root/.keras/datasets/flower_photos/sunflowers/1314584013_fe935fdeb1_n.jpg'),\n",
              " PosixPath('/root/.keras/datasets/flower_photos/sunflowers/6198569587_23c3693328_m.jpg'),\n",
              " PosixPath('/root/.keras/datasets/flower_photos/sunflowers/4933230247_a0432f01da.jpg'),\n",
              " PosixPath('/root/.keras/datasets/flower_photos/sunflowers/5970869550_d7d9fabebd_n.jpg'),\n",
              " PosixPath('/root/.keras/datasets/flower_photos/sunflowers/6958724008_12259943a7.jpg'),\n",
              " PosixPath('/root/.keras/datasets/flower_photos/sunflowers/14646280372_dd50be16e4_n.jpg'),\n",
              " PosixPath('/root/.keras/datasets/flower_photos/sunflowers/7176723954_e41618edc1_n.jpg'),\n",
              " PosixPath('/root/.keras/datasets/flower_photos/sunflowers/7270375648_79f0caef42_n.jpg'),\n",
              " PosixPath('/root/.keras/datasets/flower_photos/sunflowers/6145005439_ef6e07f9c6_n.jpg'),\n",
              " PosixPath('/root/.keras/datasets/flower_photos/sunflowers/22419079265_8902cddb7d_n.jpg'),\n",
              " PosixPath('/root/.keras/datasets/flower_photos/sunflowers/200557983_10a88672fc.jpg'),\n",
              " PosixPath('/root/.keras/datasets/flower_photos/sunflowers/15054866658_c1a6223403_m.jpg'),\n",
              " PosixPath('/root/.keras/datasets/flower_photos/sunflowers/8292914969_4a76608250_m.jpg'),\n",
              " PosixPath('/root/.keras/datasets/flower_photos/sunflowers/210076535_80951bc5d5.jpg'),\n",
              " PosixPath('/root/.keras/datasets/flower_photos/sunflowers/4868595281_1e58083785.jpg'),\n",
              " PosixPath('/root/.keras/datasets/flower_photos/sunflowers/16988605969_570329ff20_n.jpg'),\n",
              " PosixPath('/root/.keras/datasets/flower_photos/sunflowers/9481563239_01b585b41d_n.jpg'),\n",
              " PosixPath('/root/.keras/datasets/flower_photos/sunflowers/2949654221_909b0c86a1_n.jpg'),\n",
              " PosixPath('/root/.keras/datasets/flower_photos/sunflowers/3858508462_db2b9692d1.jpg'),\n",
              " PosixPath('/root/.keras/datasets/flower_photos/sunflowers/201809908_0ef84bb351.jpg'),\n",
              " PosixPath('/root/.keras/datasets/flower_photos/sunflowers/4745991955_6804568ae0_n.jpg'),\n",
              " PosixPath('/root/.keras/datasets/flower_photos/sunflowers/3846907701_e13b66aa87.jpg'),\n",
              " PosixPath('/root/.keras/datasets/flower_photos/sunflowers/164668737_aeab0cb55e_n.jpg'),\n",
              " PosixPath('/root/.keras/datasets/flower_photos/sunflowers/4932736136_0115955987.jpg'),\n",
              " PosixPath('/root/.keras/datasets/flower_photos/sunflowers/6606813305_c992231d29_m.jpg'),\n",
              " PosixPath('/root/.keras/datasets/flower_photos/sunflowers/7820523050_76c8caa025.jpg'),\n",
              " PosixPath('/root/.keras/datasets/flower_photos/sunflowers/4746648726_e37a2de16d_n.jpg'),\n",
              " PosixPath('/root/.keras/datasets/flower_photos/sunflowers/19349582128_68a662075e_n.jpg'),\n",
              " PosixPath('/root/.keras/datasets/flower_photos/sunflowers/20407896403_a50fef58ac_n.jpg'),\n",
              " PosixPath('/root/.keras/datasets/flower_photos/sunflowers/2678588376_6ca64a4a54_n.jpg'),\n",
              " PosixPath('/root/.keras/datasets/flower_photos/sunflowers/20148493928_9f75a99783.jpg'),\n",
              " PosixPath('/root/.keras/datasets/flower_photos/sunflowers/20344366953_44fb51051b.jpg'),\n",
              " PosixPath('/root/.keras/datasets/flower_photos/sunflowers/2996573407_5e473b9359.jpg'),\n",
              " PosixPath('/root/.keras/datasets/flower_photos/sunflowers/4623843480_23e3fb8dcc_n.jpg'),\n",
              " PosixPath('/root/.keras/datasets/flower_photos/sunflowers/40410686_272bc66faf_m.jpg'),\n",
              " PosixPath('/root/.keras/datasets/flower_photos/sunflowers/7510262868_cf7d6f6f25_n.jpg'),\n",
              " PosixPath('/root/.keras/datasets/flower_photos/sunflowers/15054753070_4f6ae0e763_m.jpg'),\n",
              " PosixPath('/root/.keras/datasets/flower_photos/sunflowers/6627521877_6e43fb3c49_m.jpg'),\n",
              " PosixPath('/root/.keras/datasets/flower_photos/sunflowers/15054865217_e398d0dc9f_n.jpg'),\n",
              " PosixPath('/root/.keras/datasets/flower_photos/sunflowers/15243175532_ac28c48e14_m.jpg'),\n",
              " PosixPath('/root/.keras/datasets/flower_photos/sunflowers/5952223760_85972671d6_n.jpg'),\n",
              " PosixPath('/root/.keras/datasets/flower_photos/sunflowers/6606746467_a668c8d417.jpg'),\n",
              " PosixPath('/root/.keras/datasets/flower_photos/sunflowers/13096076565_72c2c60875_n.jpg'),\n",
              " PosixPath('/root/.keras/datasets/flower_photos/sunflowers/24459548_27a783feda.jpg'),\n",
              " PosixPath('/root/.keras/datasets/flower_photos/sunflowers/19442589512_e733cfea0f.jpg'),\n",
              " PosixPath('/root/.keras/datasets/flower_photos/sunflowers/2960610406_b61930727f_n.jpg'),\n",
              " PosixPath('/root/.keras/datasets/flower_photos/sunflowers/5927432662_3ffd2461c2_n.jpg'),\n",
              " PosixPath('/root/.keras/datasets/flower_photos/sunflowers/8014735546_3db46bb1fe_n.jpg'),\n",
              " PosixPath('/root/.keras/datasets/flower_photos/sunflowers/14925397761_46ecfa24e0.jpg'),\n",
              " PosixPath('/root/.keras/datasets/flower_photos/sunflowers/22405887122_75eda1872f_m.jpg'),\n",
              " PosixPath('/root/.keras/datasets/flower_photos/sunflowers/5043404000_9bc16cb7e5_m.jpg'),\n",
              " PosixPath('/root/.keras/datasets/flower_photos/sunflowers/5139977283_530c508603_n.jpg'),\n",
              " PosixPath('/root/.keras/datasets/flower_photos/sunflowers/15054750690_198b6ab0f2_n.jpg'),\n",
              " PosixPath('/root/.keras/datasets/flower_photos/sunflowers/4933821940_38064522a8.jpg'),\n",
              " PosixPath('/root/.keras/datasets/flower_photos/sunflowers/3514340206_efb8198a80_n.jpg'),\n",
              " PosixPath('/root/.keras/datasets/flower_photos/sunflowers/8929213942_5544191250_n.jpg'),\n",
              " PosixPath('/root/.keras/datasets/flower_photos/sunflowers/6140661443_bb48344226.jpg'),\n",
              " PosixPath('/root/.keras/datasets/flower_photos/sunflowers/4821232343_7e0bcfbfdf_n.jpg'),\n",
              " PosixPath('/root/.keras/datasets/flower_photos/sunflowers/14460075029_5cd715bb72_m.jpg'),\n",
              " PosixPath('/root/.keras/datasets/flower_photos/sunflowers/15745084272_36402f5ee6_n.jpg'),\n",
              " PosixPath('/root/.keras/datasets/flower_photos/sunflowers/5970300143_36b42437de_n.jpg'),\n",
              " PosixPath('/root/.keras/datasets/flower_photos/sunflowers/15240466871_ec45b65554_m.jpg'),\n",
              " PosixPath('/root/.keras/datasets/flower_photos/sunflowers/9511172241_8aee411e2e.jpg'),\n",
              " PosixPath('/root/.keras/datasets/flower_photos/sunflowers/3596902268_049e33a2cb_n.jpg'),\n",
              " PosixPath('/root/.keras/datasets/flower_photos/sunflowers/9309473873_9d62b9082e.jpg'),\n",
              " PosixPath('/root/.keras/datasets/flower_photos/sunflowers/7603036176_9e8967cd21.jpg'),\n",
              " PosixPath('/root/.keras/datasets/flower_photos/sunflowers/8481979626_98c9f88848_n.jpg'),\n",
              " PosixPath('/root/.keras/datasets/flower_photos/sunflowers/19710076021_f5bb162540.jpg'),\n",
              " PosixPath('/root/.keras/datasets/flower_photos/sunflowers/5032376020_2ed312306c.jpg'),\n",
              " PosixPath('/root/.keras/datasets/flower_photos/sunflowers/3062794421_295f8c2c4e.jpg'),\n",
              " PosixPath('/root/.keras/datasets/flower_photos/sunflowers/40411100_7fbe10ec0f_n.jpg'),\n",
              " PosixPath('/root/.keras/datasets/flower_photos/sunflowers/9564240106_0577e919da_n.jpg'),\n",
              " PosixPath('/root/.keras/datasets/flower_photos/sunflowers/200288046_0032f322ff_n.jpg'),\n",
              " PosixPath('/root/.keras/datasets/flower_photos/sunflowers/3749090865_b90f28a585_n.jpg'),\n",
              " PosixPath('/root/.keras/datasets/flower_photos/sunflowers/5917253022_4e3142d48b_n.jpg'),\n",
              " PosixPath('/root/.keras/datasets/flower_photos/sunflowers/2894191705_a1d2d80c80.jpg'),\n",
              " PosixPath('/root/.keras/datasets/flower_photos/sunflowers/14925398301_55a180f919_n.jpg'),\n",
              " PosixPath('/root/.keras/datasets/flower_photos/sunflowers/4933230161_12f3ee7587.jpg'),\n",
              " PosixPath('/root/.keras/datasets/flower_photos/sunflowers/13095941995_9a66faa713_n.jpg'),\n",
              " PosixPath('/root/.keras/datasets/flower_photos/sunflowers/4745985619_249078cafa_n.jpg'),\n",
              " PosixPath('/root/.keras/datasets/flower_photos/sunflowers/8234846550_fdaf326dbe.jpg'),\n",
              " PosixPath('/root/.keras/datasets/flower_photos/sunflowers/5896354497_6a19162741.jpg'),\n",
              " PosixPath('/root/.keras/datasets/flower_photos/sunflowers/2883115621_4837267ea1_m.jpg'),\n",
              " PosixPath('/root/.keras/datasets/flower_photos/sunflowers/9384867134_83af458a19_n.jpg'),\n",
              " PosixPath('/root/.keras/datasets/flower_photos/sunflowers/19697910486_0086d893a2.jpg'),\n",
              " PosixPath('/root/.keras/datasets/flower_photos/sunflowers/9610098411_f1613c8e14.jpg'),\n",
              " PosixPath('/root/.keras/datasets/flower_photos/sunflowers/3001536784_3bfd101b23_n.jpg'),\n",
              " PosixPath('/root/.keras/datasets/flower_photos/sunflowers/15380755137_a2e67839ab_m.jpg'),\n",
              " PosixPath('/root/.keras/datasets/flower_photos/sunflowers/3798841385_38142ea3c6_n.jpg'),\n",
              " PosixPath('/root/.keras/datasets/flower_photos/sunflowers/2706736074_b0fba20b3e.jpg'),\n",
              " PosixPath('/root/.keras/datasets/flower_photos/sunflowers/4933822052_2dfef02517.jpg'),\n",
              " PosixPath('/root/.keras/datasets/flower_photos/sunflowers/19915160340_ec904edbdf_n.jpg'),\n",
              " PosixPath('/root/.keras/datasets/flower_photos/sunflowers/864957037_c75373d1c5.jpg'),\n",
              " PosixPath('/root/.keras/datasets/flower_photos/sunflowers/15081164641_45a7b92b3a_m.jpg'),\n",
              " PosixPath('/root/.keras/datasets/flower_photos/sunflowers/1788133737_b1133d1aa7.jpg'),\n",
              " PosixPath('/root/.keras/datasets/flower_photos/sunflowers/2443095419_17b920d155_m.jpg'),\n",
              " PosixPath('/root/.keras/datasets/flower_photos/sunflowers/20965412955_2c640b13bd.jpg'),\n",
              " PosixPath('/root/.keras/datasets/flower_photos/sunflowers/215798352_184d8040d1.jpg'),\n",
              " PosixPath('/root/.keras/datasets/flower_photos/sunflowers/5037790727_57c527494f.jpg'),\n",
              " PosixPath('/root/.keras/datasets/flower_photos/sunflowers/4489516263_e49fe82637_n.jpg'),\n",
              " PosixPath('/root/.keras/datasets/flower_photos/sunflowers/22686342422_c0b9e2f38e.jpg'),\n",
              " PosixPath('/root/.keras/datasets/flower_photos/sunflowers/4933230991_d50c0f7c66.jpg'),\n",
              " PosixPath('/root/.keras/datasets/flower_photos/sunflowers/6250692311_cb60c85ee9_n.jpg'),\n",
              " PosixPath('/root/.keras/datasets/flower_photos/sunflowers/4932735566_2327bf319a.jpg'),\n",
              " PosixPath('/root/.keras/datasets/flower_photos/sunflowers/9216286162_6ceefdd1b4_m.jpg'),\n",
              " PosixPath('/root/.keras/datasets/flower_photos/sunflowers/21134000558_d7d6c9b1fe_n.jpg'),\n",
              " PosixPath('/root/.keras/datasets/flower_photos/sunflowers/9599534035_ae4df582b6.jpg'),\n",
              " PosixPath('/root/.keras/datasets/flower_photos/sunflowers/18237215308_a158d49f28_n.jpg'),\n",
              " PosixPath('/root/.keras/datasets/flower_photos/sunflowers/3922005347_7b6fb82fcd.jpg'),\n",
              " PosixPath('/root/.keras/datasets/flower_photos/sunflowers/5139971615_434ff8ed8b_n.jpg'),\n",
              " PosixPath('/root/.keras/datasets/flower_photos/sunflowers/5027895361_ace3b731e5_n.jpg'),\n",
              " PosixPath('/root/.keras/datasets/flower_photos/sunflowers/5970868068_fe1c8b282e_n.jpg'),\n",
              " PosixPath('/root/.keras/datasets/flower_photos/sunflowers/9825716455_f12bcc8d4e_n.jpg'),\n",
              " PosixPath('/root/.keras/datasets/flower_photos/sunflowers/4745980581_a0b7585258_n.jpg'),\n",
              " PosixPath('/root/.keras/datasets/flower_photos/sunflowers/6198569425_e953b9e6cc_m.jpg'),\n",
              " PosixPath('/root/.keras/datasets/flower_photos/sunflowers/2706304885_4916102704_n.jpg'),\n",
              " PosixPath('/root/.keras/datasets/flower_photos/sunflowers/14741813110_94964c39e2_n.jpg'),\n",
              " PosixPath('/root/.keras/datasets/flower_photos/sunflowers/6080086410_17a02dcfb8.jpg'),\n",
              " PosixPath('/root/.keras/datasets/flower_photos/sunflowers/6606809995_edee55b770_m.jpg'),\n",
              " PosixPath('/root/.keras/datasets/flower_photos/sunflowers/1044296388_912143e1d4.jpg'),\n",
              " PosixPath('/root/.keras/datasets/flower_photos/sunflowers/4673984698_6ec14d5b79.jpg'),\n",
              " PosixPath('/root/.keras/datasets/flower_photos/sunflowers/10386525005_fd0b7d6c55_n.jpg'),\n",
              " PosixPath('/root/.keras/datasets/flower_photos/sunflowers/2723995667_31f32294b4.jpg'),\n",
              " PosixPath('/root/.keras/datasets/flower_photos/sunflowers/4933230395_7930697335_m.jpg'),\n",
              " PosixPath('/root/.keras/datasets/flower_photos/sunflowers/6042014768_b57f0bfc79_n.jpg'),\n",
              " PosixPath('/root/.keras/datasets/flower_photos/sunflowers/5951665793_8ae4807cbd_n.jpg'),\n",
              " PosixPath('/root/.keras/datasets/flower_photos/sunflowers/3838274225_36010c6254_n.jpg'),\n",
              " PosixPath('/root/.keras/datasets/flower_photos/sunflowers/5979111199_495884b578_n.jpg'),\n",
              " PosixPath('/root/.keras/datasets/flower_photos/sunflowers/14698136411_23bdcff7bf_n.jpg'),\n",
              " PosixPath('/root/.keras/datasets/flower_photos/sunflowers/35477171_13cb52115c_n.jpg'),\n",
              " PosixPath('/root/.keras/datasets/flower_photos/sunflowers/15054864058_2edca122a9_n.jpg'),\n",
              " PosixPath('/root/.keras/datasets/flower_photos/sunflowers/8368015811_2893411cf7_n.jpg'),\n",
              " PosixPath('/root/.keras/datasets/flower_photos/sunflowers/5043409092_5b12cc985a_m.jpg'),\n",
              " PosixPath('/root/.keras/datasets/flower_photos/sunflowers/7012366081_019c8a17a4_m.jpg'),\n",
              " PosixPath('/root/.keras/datasets/flower_photos/sunflowers/13648603305_1268eda8b7_n.jpg'),\n",
              " PosixPath('/root/.keras/datasets/flower_photos/sunflowers/7176729016_d73ff2211e.jpg'),\n",
              " PosixPath('/root/.keras/datasets/flower_photos/sunflowers/4871455214_8b5fb87ab6_n.jpg'),\n",
              " PosixPath('/root/.keras/datasets/flower_photos/sunflowers/9681915384_b3b646dc92_m.jpg'),\n",
              " PosixPath('/root/.keras/datasets/flower_photos/sunflowers/9448615838_04078d09bf_n.jpg'),\n",
              " PosixPath('/root/.keras/datasets/flower_photos/sunflowers/3334350831_f8755a2095_n.jpg'),\n",
              " PosixPath('/root/.keras/datasets/flower_photos/sunflowers/12471443383_b71e7a7480_m.jpg'),\n",
              " PosixPath('/root/.keras/datasets/flower_photos/sunflowers/15054866898_60ee50ec6b_n.jpg'),\n",
              " PosixPath('/root/.keras/datasets/flower_photos/sunflowers/1022552002_2b93faf9e7_n.jpg'),\n",
              " PosixPath('/root/.keras/datasets/flower_photos/sunflowers/9427945592_07a2676945_n.jpg'),\n",
              " PosixPath('/root/.keras/datasets/flower_photos/sunflowers/9482209981_bf7bf6022b_m.jpg'),\n",
              " PosixPath('/root/.keras/datasets/flower_photos/sunflowers/19784656639_cd7f0a4a26_m.jpg'),\n",
              " PosixPath('/root/.keras/datasets/flower_photos/sunflowers/3865206264_5d81584bba.jpg'),\n",
              " PosixPath('/root/.keras/datasets/flower_photos/sunflowers/8021568040_f891223c44_n.jpg'),\n",
              " PosixPath('/root/.keras/datasets/flower_photos/sunflowers/50987813_7484bfbcdf.jpg'),\n",
              " PosixPath('/root/.keras/datasets/flower_photos/sunflowers/4890268276_563f40a193.jpg'),\n",
              " PosixPath('/root/.keras/datasets/flower_photos/sunflowers/21349789961_18ba1af5b7_n.jpg'),\n",
              " PosixPath('/root/.keras/datasets/flower_photos/sunflowers/4980406384_791774d953.jpg'),\n",
              " PosixPath('/root/.keras/datasets/flower_photos/sunflowers/3594967811_697184b026_n.jpg'),\n",
              " PosixPath('/root/.keras/datasets/flower_photos/sunflowers/24459750_eb49f6e4cb_m.jpg'),\n",
              " PosixPath('/root/.keras/datasets/flower_photos/sunflowers/6140808687_88df0fd733.jpg'),\n",
              " PosixPath('/root/.keras/datasets/flower_photos/sunflowers/14121915990_4b76718077_m.jpg'),\n",
              " PosixPath('/root/.keras/datasets/flower_photos/sunflowers/6061177447_d8ce96aee0.jpg'),\n",
              " PosixPath('/root/.keras/datasets/flower_photos/sunflowers/14144522269_bc20029375_m.jpg'),\n",
              " PosixPath('/root/.keras/datasets/flower_photos/sunflowers/17148843706_df148301ac_n.jpg'),\n",
              " PosixPath('/root/.keras/datasets/flower_photos/sunflowers/8266310743_02095e782d_m.jpg'),\n",
              " PosixPath('/root/.keras/datasets/flower_photos/sunflowers/3001531316_efae24d37d_n.jpg'),\n",
              " PosixPath('/root/.keras/datasets/flower_photos/sunflowers/2307673262_e1e1aefd29.jpg'),\n",
              " PosixPath('/root/.keras/datasets/flower_photos/sunflowers/4895719476_bd3b6bd6fd_n.jpg'),\n",
              " PosixPath('/root/.keras/datasets/flower_photos/sunflowers/9699724719_a8439cc0fd_n.jpg'),\n",
              " PosixPath('/root/.keras/datasets/flower_photos/sunflowers/1596293240_2d5b53495a_m.jpg'),\n",
              " PosixPath('/root/.keras/datasets/flower_photos/sunflowers/4932735362_6e1017140f.jpg'),\n",
              " PosixPath('/root/.keras/datasets/flower_photos/sunflowers/14646283472_50a3ae1395.jpg'),\n",
              " PosixPath('/root/.keras/datasets/flower_photos/sunflowers/4414084638_03d2db38ae.jpg'),\n",
              " PosixPath('/root/.keras/datasets/flower_photos/sunflowers/14244273988_a7484f18b7_m.jpg'),\n",
              " PosixPath('/root/.keras/datasets/flower_photos/sunflowers/6166888942_7058198713_m.jpg'),\n",
              " PosixPath('/root/.keras/datasets/flower_photos/sunflowers/8014734302_65c6e83bb4_m.jpg'),\n",
              " PosixPath('/root/.keras/datasets/flower_photos/sunflowers/10386540696_0a95ee53a8_n.jpg'),\n",
              " PosixPath('/root/.keras/datasets/flower_photos/sunflowers/4895721242_89014e723c_n.jpg'),\n",
              " PosixPath('/root/.keras/datasets/flower_photos/sunflowers/2733109082_1351f6738a_n.jpg'),\n",
              " PosixPath('/root/.keras/datasets/flower_photos/sunflowers/15839183375_49bf4f75e8_m.jpg'),\n",
              " PosixPath('/root/.keras/datasets/flower_photos/sunflowers/4895720722_8247f2015b_n.jpg'),\n",
              " PosixPath('/root/.keras/datasets/flower_photos/sunflowers/14348961225_09bd803317_n.jpg'),\n",
              " PosixPath('/root/.keras/datasets/flower_photos/sunflowers/6953297_8576bf4ea3.jpg'),\n",
              " PosixPath('/root/.keras/datasets/flower_photos/sunflowers/4847062576_bae870479c_n.jpg'),\n",
              " PosixPath('/root/.keras/datasets/flower_photos/sunflowers/14678298676_6db8831ee6_m.jpg'),\n",
              " PosixPath('/root/.keras/datasets/flower_photos/sunflowers/14889779907_3d401bbac7_m.jpg'),\n",
              " PosixPath('/root/.keras/datasets/flower_photos/sunflowers/16656015339_2ccb7cd18d.jpg'),\n",
              " PosixPath('/root/.keras/datasets/flower_photos/sunflowers/5994572653_ea98afa3af_n.jpg'),\n",
              " PosixPath('/root/.keras/datasets/flower_photos/sunflowers/3568114325_d6b1363497.jpg'),\n",
              " PosixPath('/root/.keras/datasets/flower_photos/sunflowers/19359539074_d7e32e6616_n.jpg'),\n",
              " PosixPath('/root/.keras/datasets/flower_photos/sunflowers/14814264272_4b39a102f9_n.jpg'),\n",
              " PosixPath('/root/.keras/datasets/flower_photos/sunflowers/5999024446_5721493894.jpg'),\n",
              " PosixPath('/root/.keras/datasets/flower_photos/sunflowers/14955545254_324cd4ee75.jpg'),\n",
              " PosixPath('/root/.keras/datasets/flower_photos/sunflowers/1484598527_579a272f53.jpg'),\n",
              " PosixPath('/root/.keras/datasets/flower_photos/sunflowers/4846786944_2832c5c8b8.jpg'),\n",
              " PosixPath('/root/.keras/datasets/flower_photos/sunflowers/3840761441_7c648abf4d_n.jpg'),\n",
              " PosixPath('/root/.keras/datasets/flower_photos/sunflowers/4341530649_c17bbc5d01.jpg'),\n",
              " PosixPath('/root/.keras/datasets/flower_photos/sunflowers/2720698862_486d3ec079_m.jpg'),\n",
              " PosixPath('/root/.keras/datasets/flower_photos/sunflowers/9555824387_32b151e9b0_m.jpg'),\n",
              " PosixPath('/root/.keras/datasets/flower_photos/sunflowers/4893660821_eb7f02bef3_n.jpg'),\n",
              " PosixPath('/root/.keras/datasets/flower_photos/sunflowers/14741812319_e1d32ffb84_n.jpg'),\n",
              " PosixPath('/root/.keras/datasets/flower_photos/sunflowers/4933822272_79af205b94.jpg'),\n",
              " PosixPath('/root/.keras/datasets/flower_photos/sunflowers/2940221732_3507f3e927_n.jpg'),\n",
              " PosixPath('/root/.keras/datasets/flower_photos/sunflowers/12471441503_d188b5f31a_m.jpg'),\n",
              " PosixPath('/root/.keras/datasets/flower_photos/sunflowers/184682506_8a9b8c662d.jpg'),\n",
              " PosixPath('/root/.keras/datasets/flower_photos/sunflowers/5293283002_9b17f085f7_m.jpg'),\n",
              " PosixPath('/root/.keras/datasets/flower_photos/sunflowers/9445830851_e9a126fd1d_n.jpg'),\n",
              " PosixPath('/root/.keras/datasets/flower_photos/sunflowers/9904127656_f76a5a4811_m.jpg'),\n",
              " PosixPath('/root/.keras/datasets/flower_photos/sunflowers/21518663809_3d69f5b995_n.jpg'),\n",
              " PosixPath('/root/.keras/datasets/flower_photos/sunflowers/4933822422_4f54fc7cc8.jpg'),\n",
              " PosixPath('/root/.keras/datasets/flower_photos/sunflowers/3568925290_faf7aec3a0.jpg'),\n",
              " PosixPath('/root/.keras/datasets/flower_photos/sunflowers/9056495873_66e351b17c_n.jpg'),\n",
              " PosixPath('/root/.keras/datasets/flower_photos/sunflowers/5139969871_c9046bdaa7_n.jpg'),\n",
              " PosixPath('/root/.keras/datasets/flower_photos/sunflowers/200557977_bf24d9550b.jpg'),\n",
              " PosixPath('/root/.keras/datasets/flower_photos/sunflowers/6239758929_50e5e5a476_m.jpg'),\n",
              " PosixPath('/root/.keras/datasets/flower_photos/sunflowers/9216286876_289a4779f7.jpg'),\n",
              " PosixPath('/root/.keras/datasets/flower_photos/sunflowers/3466923719_b4b6df7f8b_n.jpg'),\n",
              " PosixPath('/root/.keras/datasets/flower_photos/sunflowers/4932143849_018486cbf7.jpg'),\n",
              " PosixPath('/root/.keras/datasets/flower_photos/sunflowers/5069564563_ae03792c3c_m.jpg'),\n",
              " PosixPath('/root/.keras/datasets/flower_photos/sunflowers/14901528533_ac1ce09063.jpg'),\n",
              " PosixPath('/root/.keras/datasets/flower_photos/sunflowers/4914793782_d0ea760791.jpg'),\n",
              " PosixPath('/root/.keras/datasets/flower_photos/sunflowers/6104713425_8a3277e34a.jpg'),\n",
              " PosixPath('/root/.keras/datasets/flower_photos/sunflowers/9231555352_d2dd8f8e68_m.jpg'),\n",
              " PosixPath('/root/.keras/datasets/flower_photos/sunflowers/2694860538_b95d60122c_m.jpg'),\n",
              " PosixPath('/root/.keras/datasets/flower_photos/sunflowers/3154932076_eff5c38231_n.jpg'),\n",
              " PosixPath('/root/.keras/datasets/flower_photos/sunflowers/15122112402_cafa41934f.jpg'),\n",
              " PosixPath('/root/.keras/datasets/flower_photos/sunflowers/9206376642_8348ba5c7a.jpg'),\n",
              " PosixPath('/root/.keras/datasets/flower_photos/sunflowers/14932787983_d6e05f2434_m.jpg'),\n",
              " PosixPath('/root/.keras/datasets/flower_photos/sunflowers/4933229889_c5d9e36392.jpg'),\n",
              " PosixPath('/root/.keras/datasets/flower_photos/sunflowers/4746638094_f5336788a0_n.jpg'),\n",
              " PosixPath('/root/.keras/datasets/flower_photos/sunflowers/14889392928_9742aed45b_m.jpg'),\n",
              " PosixPath('/root/.keras/datasets/flower_photos/sunflowers/20753711039_0b11d24b50_n.jpg'),\n",
              " PosixPath('/root/.keras/datasets/flower_photos/sunflowers/2689228449_e0be72cf00_n.jpg'),\n",
              " PosixPath('/root/.keras/datasets/flower_photos/sunflowers/4414081772_8a0e8a1327.jpg'),\n",
              " PosixPath('/root/.keras/datasets/flower_photos/sunflowers/8202034834_ee0ee91e04_n.jpg'),\n",
              " PosixPath('/root/.keras/datasets/flower_photos/sunflowers/4933823300_39fd4420b6.jpg'),\n",
              " PosixPath('/root/.keras/datasets/flower_photos/sunflowers/2598973480_07de93e91d_n.jpg'),\n",
              " PosixPath('/root/.keras/datasets/flower_photos/sunflowers/21995435890_e5672244a4_m.jpg'),\n",
              " PosixPath('/root/.keras/datasets/flower_photos/sunflowers/3749091071_c146b33c74_n.jpg'),\n",
              " PosixPath('/root/.keras/datasets/flower_photos/sunflowers/4895721788_f10208ab77_n.jpg'),\n",
              " PosixPath('/root/.keras/datasets/flower_photos/sunflowers/4933229357_1c5cc03f65_m.jpg'),\n",
              " PosixPath('/root/.keras/datasets/flower_photos/sunflowers/16143151468_4f3c033e33.jpg'),\n",
              " PosixPath('/root/.keras/datasets/flower_photos/sunflowers/3846717708_ea11383ed8.jpg'),\n",
              " PosixPath('/root/.keras/datasets/flower_photos/sunflowers/1240625276_fb3bd0c7b1.jpg'),\n",
              " PosixPath('/root/.keras/datasets/flower_photos/sunflowers/40411019_526f3fc8d9_m.jpg'),\n",
              " PosixPath('/root/.keras/datasets/flower_photos/sunflowers/4664737020_b4c61aacd3_n.jpg'),\n",
              " PosixPath('/root/.keras/datasets/flower_photos/sunflowers/3146795631_d062f233c1.jpg'),\n",
              " PosixPath('/root/.keras/datasets/flower_photos/sunflowers/3734999477_7f454081aa_n.jpg'),\n",
              " PosixPath('/root/.keras/datasets/flower_photos/sunflowers/7586498522_4dcab1c8d2_m.jpg'),\n",
              " PosixPath('/root/.keras/datasets/flower_photos/sunflowers/4746668678_0e2693b1b9_n.jpg'),\n",
              " PosixPath('/root/.keras/datasets/flower_photos/sunflowers/8174970894_7f9a26be7e.jpg'),\n",
              " PosixPath('/root/.keras/datasets/flower_photos/sunflowers/22405882322_d4561f8469_n.jpg'),\n",
              " PosixPath('/root/.keras/datasets/flower_photos/sunflowers/4831577091_f56157a5d5_n.jpg'),\n",
              " PosixPath('/root/.keras/datasets/flower_photos/sunflowers/22992257000_76dbc599e7_m.jpg'),\n",
              " PosixPath('/root/.keras/datasets/flower_photos/sunflowers/5556633113_0a04f5ed8a_n.jpg'),\n",
              " PosixPath('/root/.keras/datasets/flower_photos/sunflowers/23645265812_24352ff6bf.jpg'),\n",
              " PosixPath('/root/.keras/datasets/flower_photos/sunflowers/5955501969_e42f038a6f_n.jpg'),\n",
              " PosixPath('/root/.keras/datasets/flower_photos/sunflowers/2067882323_8de6623ffd.jpg'),\n",
              " PosixPath('/root/.keras/datasets/flower_photos/sunflowers/6606749757_b98a4ba403.jpg'),\n",
              " PosixPath('/root/.keras/datasets/flower_photos/sunflowers/6050020905_881295ac72_n.jpg'),\n",
              " PosixPath('/root/.keras/datasets/flower_photos/sunflowers/877083343_e3338c4125.jpg'),\n",
              " PosixPath('/root/.keras/datasets/flower_photos/sunflowers/9246304620_768d1f54d7_n.jpg'),\n",
              " PosixPath('/root/.keras/datasets/flower_photos/sunflowers/5357144886_b78f4782eb.jpg'),\n",
              " PosixPath('/root/.keras/datasets/flower_photos/sunflowers/13117907313_86c99c6441.jpg'),\n",
              " PosixPath('/root/.keras/datasets/flower_photos/sunflowers/678714585_addc9aaaef.jpg'),\n",
              " PosixPath('/root/.keras/datasets/flower_photos/sunflowers/4932736308_827012cff2.jpg'),\n",
              " PosixPath('/root/.keras/datasets/flower_photos/sunflowers/5028817729_f04d32bac8_n.jpg'),\n",
              " PosixPath('/root/.keras/datasets/flower_photos/sunflowers/4746643626_02b2d056a2_n.jpg'),\n",
              " PosixPath('/root/.keras/datasets/flower_photos/sunflowers/20871601265_daa4be4291_n.jpg'),\n",
              " PosixPath('/root/.keras/datasets/flower_photos/sunflowers/969913643_9d5cd2fe45_m.jpg'),\n",
              " PosixPath('/root/.keras/datasets/flower_photos/sunflowers/15122871130_6a7d0b4372_n.jpg'),\n",
              " PosixPath('/root/.keras/datasets/flower_photos/sunflowers/7721658400_0dec46d225.jpg'),\n",
              " PosixPath('/root/.keras/datasets/flower_photos/sunflowers/2980154410_bffd7a3452_n.jpg'),\n",
              " PosixPath('/root/.keras/datasets/flower_photos/sunflowers/7804213238_1d92ae5edb_m.jpg'),\n",
              " PosixPath('/root/.keras/datasets/flower_photos/sunflowers/4755705724_976621a1e7.jpg'),\n",
              " PosixPath('/root/.keras/datasets/flower_photos/sunflowers/6112510436_9fe06e695a_n.jpg'),\n",
              " PosixPath('/root/.keras/datasets/flower_photos/sunflowers/21796333524_38fc8e0ab5_n.jpg'),\n",
              " PosixPath('/root/.keras/datasets/flower_photos/sunflowers/14921668662_3ffc5b9db3_n.jpg'),\n",
              " PosixPath('/root/.keras/datasets/flower_photos/sunflowers/3848405800_8eea982c40.jpg'),\n",
              " PosixPath('/root/.keras/datasets/flower_photos/sunflowers/5955500463_6c08cb199e.jpg'),\n",
              " PosixPath('/root/.keras/datasets/flower_photos/sunflowers/9484354480_07ff2ef0a6.jpg'),\n",
              " PosixPath('/root/.keras/datasets/flower_photos/sunflowers/2442985637_8748180f69.jpg'),\n",
              " PosixPath('/root/.keras/datasets/flower_photos/sunflowers/15683877266_42e0fe3782_n.jpg'),\n",
              " PosixPath('/root/.keras/datasets/flower_photos/sunflowers/2721638730_34a9b7a78b.jpg'),\n",
              " PosixPath('/root/.keras/datasets/flower_photos/sunflowers/9610373748_b9cb67bd55.jpg'),\n",
              " PosixPath('/root/.keras/datasets/flower_photos/sunflowers/857698097_8068a2c135_n.jpg'),\n",
              " PosixPath('/root/.keras/datasets/flower_photos/sunflowers/4805544785_a63241f6d0_n.jpg'),\n",
              " PosixPath('/root/.keras/datasets/flower_photos/sunflowers/164672339_f2b5b164f6.jpg'),\n",
              " PosixPath('/root/.keras/datasets/flower_photos/sunflowers/29972905_4cc537ff4b_n.jpg'),\n",
              " PosixPath('/root/.keras/datasets/flower_photos/sunflowers/7510285306_ba8f80c382_n.jpg'),\n",
              " PosixPath('/root/.keras/datasets/flower_photos/sunflowers/6606743797_c90c669757.jpg'),\n",
              " PosixPath('/root/.keras/datasets/flower_photos/sunflowers/8480886751_71d88bfdc0_n.jpg'),\n",
              " PosixPath('/root/.keras/datasets/flower_photos/sunflowers/16975010069_7afd290657_m.jpg'),\n",
              " PosixPath('/root/.keras/datasets/flower_photos/sunflowers/20022771089_3cc7e5086d_m.jpg'),\n",
              " PosixPath('/root/.keras/datasets/flower_photos/sunflowers/2979297519_17a08b37f6_m.jpg'),\n",
              " PosixPath('/root/.keras/datasets/flower_photos/sunflowers/6141199476_9b6d383fd9.jpg'),\n",
              " PosixPath('/root/.keras/datasets/flower_photos/sunflowers/1022552036_67d33d5bd8_n.jpg'),\n",
              " PosixPath('/root/.keras/datasets/flower_photos/sunflowers/4042816698_578a1d599e.jpg'),\n",
              " PosixPath('/root/.keras/datasets/flower_photos/sunflowers/4755075329_1fccc69d4e.jpg'),\n",
              " PosixPath('/root/.keras/datasets/flower_photos/sunflowers/7652532108_01ef94c476.jpg'),\n",
              " PosixPath('/root/.keras/datasets/flower_photos/sunflowers/22416421196_caf131c9fa_m.jpg'),\n",
              " PosixPath('/root/.keras/datasets/flower_photos/sunflowers/2927020075_54c9186797_n.jpg'),\n",
              " PosixPath('/root/.keras/datasets/flower_photos/sunflowers/274846229_990e976683_n.jpg'),\n",
              " PosixPath('/root/.keras/datasets/flower_photos/sunflowers/22755811033_cd17b109e0.jpg'),\n",
              " PosixPath('/root/.keras/datasets/flower_photos/sunflowers/3311874685_7b9ef10f7e_m.jpg'),\n",
              " PosixPath('/root/.keras/datasets/flower_photos/sunflowers/20667988875_6e73ac2879_n.jpg'),\n",
              " PosixPath('/root/.keras/datasets/flower_photos/sunflowers/15069459615_7e0fd61914_n.jpg'),\n",
              " PosixPath('/root/.keras/datasets/flower_photos/sunflowers/9399711558_7cb9547cd3_n.jpg'),\n",
              " PosixPath('/root/.keras/datasets/flower_photos/sunflowers/184683023_737fec5b18.jpg'),\n",
              " PosixPath('/root/.keras/datasets/flower_photos/sunflowers/9483429732_5ae73eb672_n.jpg'),\n",
              " PosixPath('/root/.keras/datasets/flower_photos/sunflowers/14460081668_eda8795693_m.jpg'),\n",
              " PosixPath('/root/.keras/datasets/flower_photos/sunflowers/7012364067_5ffc7654c9_m.jpg'),\n",
              " PosixPath('/root/.keras/datasets/flower_photos/sunflowers/215798357_3f4bfa27b7.jpg'),\n",
              " PosixPath('/root/.keras/datasets/flower_photos/sunflowers/4895122831_83db2ba2d0_n.jpg'),\n",
              " PosixPath('/root/.keras/datasets/flower_photos/sunflowers/18097401209_910a46fae1_n.jpg'),\n",
              " PosixPath('/root/.keras/datasets/flower_photos/sunflowers/7820626738_3be6a52e4e_n.jpg'),\n",
              " PosixPath('/root/.keras/datasets/flower_photos/sunflowers/4877195645_791c3a83b9_m.jpg'),\n",
              " PosixPath('/root/.keras/datasets/flower_photos/sunflowers/15123604714_dd034a4a3b_n.jpg'),\n",
              " PosixPath('/root/.keras/datasets/flower_photos/sunflowers/9432335346_e298e47713_n.jpg'),\n",
              " PosixPath('/root/.keras/datasets/flower_photos/sunflowers/20704967595_a9c9b8d431.jpg'),\n",
              " PosixPath('/root/.keras/datasets/flower_photos/sunflowers/40410814_fba3837226_n.jpg'),\n",
              " PosixPath('/root/.keras/datasets/flower_photos/sunflowers/26254755_1bfc494ef1_n.jpg'),\n",
              " PosixPath('/root/.keras/datasets/flower_photos/sunflowers/21728822928_9f6817325a_n.jpg'),\n",
              " PosixPath('/root/.keras/datasets/flower_photos/sunflowers/6053739964_a1d9ab3ed1_n.jpg'),\n",
              " PosixPath('/root/.keras/datasets/flower_photos/sunflowers/9610373158_5250bce6ac_n.jpg'),\n",
              " PosixPath('/root/.keras/datasets/flower_photos/sunflowers/9213511121_836a458021_m.jpg'),\n",
              " PosixPath('/root/.keras/datasets/flower_photos/sunflowers/4818994715_9d90527d18_n.jpg'),\n",
              " PosixPath('/root/.keras/datasets/flower_photos/sunflowers/14925397651_97dcddc383_n.jpg'),\n",
              " PosixPath('/root/.keras/datasets/flower_photos/sunflowers/4414080766_5116e8084e.jpg'),\n",
              " PosixPath('/root/.keras/datasets/flower_photos/sunflowers/1217254584_4b3028b93d.jpg'),\n",
              " PosixPath('/root/.keras/datasets/flower_photos/sunflowers/9491955955_d0b2c83834.jpg'),\n",
              " PosixPath('/root/.keras/datasets/flower_photos/sunflowers/2619000556_6634478e64_n.jpg'),\n",
              " PosixPath('/root/.keras/datasets/flower_photos/sunflowers/200557979_a16112aac1_n.jpg'),\n",
              " PosixPath('/root/.keras/datasets/flower_photos/sunflowers/5979669004_d9736206c9_n.jpg'),\n",
              " PosixPath('/root/.keras/datasets/flower_photos/sunflowers/10386525695_2c38fea555_n.jpg'),\n",
              " PosixPath('/root/.keras/datasets/flower_photos/sunflowers/184682320_73ccf74710.jpg'),\n",
              " PosixPath('/root/.keras/datasets/flower_photos/sunflowers/7369484298_332f69bd88_n.jpg'),\n",
              " PosixPath('/root/.keras/datasets/flower_photos/sunflowers/22478719251_276cb094f9_n.jpg'),\n",
              " PosixPath('/root/.keras/datasets/flower_photos/sunflowers/14928117202_139d2142cc_n.jpg'),\n",
              " PosixPath('/root/.keras/datasets/flower_photos/sunflowers/5979668702_fdaec9e164_n.jpg'),\n",
              " PosixPath('/root/.keras/datasets/flower_photos/sunflowers/9431896325_23bf6e8761.jpg'),\n",
              " PosixPath('/root/.keras/datasets/flower_photos/sunflowers/2729206569_9dd2b5a3ed.jpg'),\n",
              " PosixPath('/root/.keras/datasets/flower_photos/sunflowers/15118397087_bfb7ea70d5_n.jpg'),\n",
              " PosixPath('/root/.keras/datasets/flower_photos/sunflowers/4398771472_44f2a0c162_n.jpg'),\n",
              " PosixPath('/root/.keras/datasets/flower_photos/sunflowers/3683873444_be4a609c46.jpg'),\n",
              " PosixPath('/root/.keras/datasets/flower_photos/sunflowers/20410533613_56da1cce7c.jpg'),\n",
              " PosixPath('/root/.keras/datasets/flower_photos/sunflowers/5067864967_19928ca94c_m.jpg'),\n",
              " PosixPath('/root/.keras/datasets/flower_photos/sunflowers/4806174512_e04475b766_n.jpg'),\n",
              " PosixPath('/root/.keras/datasets/flower_photos/sunflowers/193878348_43571127b9_n.jpg'),\n",
              " PosixPath('/root/.keras/datasets/flower_photos/sunflowers/3001533700_1c62fb8b4a_n.jpg'),\n",
              " PosixPath('/root/.keras/datasets/flower_photos/sunflowers/7857605684_fc86440c23.jpg'),\n",
              " PosixPath('/root/.keras/datasets/flower_photos/sunflowers/310380634_60e6c79989.jpg'),\n",
              " PosixPath('/root/.keras/datasets/flower_photos/sunflowers/8928658373_fdca5ff1b8.jpg'),\n",
              " PosixPath('/root/.keras/datasets/flower_photos/sunflowers/14969295739_c132a08663_n.jpg'),\n",
              " PosixPath('/root/.keras/datasets/flower_photos/sunflowers/287233531_74d4605814_m.jpg'),\n",
              " PosixPath('/root/.keras/datasets/flower_photos/sunflowers/13959937305_2f5c532886_n.jpg'),\n",
              " PosixPath('/root/.keras/datasets/flower_photos/sunflowers/5994569021_749d5e2da3_n.jpg'),\n",
              " PosixPath('/root/.keras/datasets/flower_photos/sunflowers/20972866151_e6a928b00a.jpg'),\n",
              " PosixPath('/root/.keras/datasets/flower_photos/sunflowers/9610374042_bb16cded3d.jpg'),\n",
              " PosixPath('/root/.keras/datasets/flower_photos/sunflowers/15066430311_fb57fa92b0_m.jpg'),\n",
              " PosixPath('/root/.keras/datasets/flower_photos/sunflowers/1419608016_707b887337_n.jpg'),\n",
              " PosixPath('/root/.keras/datasets/flower_photos/sunflowers/4933229561_881d4673e7_m.jpg'),\n",
              " PosixPath('/root/.keras/datasets/flower_photos/sunflowers/8928614683_6c168edcfc.jpg'),\n",
              " PosixPath('/root/.keras/datasets/flower_photos/sunflowers/19710925313_31682fa22b_m.jpg'),\n",
              " PosixPath('/root/.keras/datasets/flower_photos/sunflowers/14925397351_c7f209d804_n.jpg'),\n",
              " PosixPath('/root/.keras/datasets/flower_photos/sunflowers/3912497888_e7a5905bc3_n.jpg'),\n",
              " PosixPath('/root/.keras/datasets/flower_photos/sunflowers/3893436870_034b79d118_n.jpg'),\n",
              " PosixPath('/root/.keras/datasets/flower_photos/sunflowers/9558628596_722c29ec60_m.jpg'),\n",
              " PosixPath('/root/.keras/datasets/flower_photos/sunflowers/9381481549_5a5d503e42_n.jpg'),\n",
              " PosixPath('/root/.keras/datasets/flower_photos/sunflowers/9558632814_e78a780f4f.jpg'),\n",
              " PosixPath('/root/.keras/datasets/flower_photos/sunflowers/4872284527_ff52128b97.jpg'),\n",
              " PosixPath('/root/.keras/datasets/flower_photos/sunflowers/193874852_fb633d8d00_n.jpg'),\n",
              " PosixPath('/root/.keras/datasets/flower_photos/sunflowers/2816256710_a2d3616fae.jpg'),\n",
              " PosixPath('/root/.keras/datasets/flower_photos/sunflowers/6606820461_952c450f90_n.jpg'),\n",
              " PosixPath('/root/.keras/datasets/flower_photos/sunflowers/15973657966_d6f6005539_n.jpg'),\n",
              " PosixPath('/root/.keras/datasets/flower_photos/sunflowers/27465811_9477c9d044.jpg'),\n",
              " PosixPath('/root/.keras/datasets/flower_photos/sunflowers/23356825566_f5885875f2.jpg'),\n",
              " PosixPath('/root/.keras/datasets/flower_photos/sunflowers/5139977579_ea2dd6a322_m.jpg'),\n",
              " PosixPath('/root/.keras/datasets/flower_photos/sunflowers/8174935013_b16626b49b.jpg'),\n",
              " PosixPath('/root/.keras/datasets/flower_photos/sunflowers/4414083164_3f285f8ac5.jpg'),\n",
              " PosixPath('/root/.keras/datasets/flower_photos/sunflowers/15026703621_e15e9d55f0_n.jpg'),\n",
              " PosixPath('/root/.keras/datasets/flower_photos/sunflowers/6140693467_211a135b6d.jpg'),\n",
              " PosixPath('/root/.keras/datasets/flower_photos/sunflowers/7176729812_7c053921fb_m.jpg'),\n",
              " PosixPath('/root/.keras/datasets/flower_photos/sunflowers/14623720226_aeeac66e0a_n.jpg'),\n",
              " PosixPath('/root/.keras/datasets/flower_photos/sunflowers/4940287066_385afd9c18_m.jpg'),\n",
              " PosixPath('/root/.keras/datasets/flower_photos/sunflowers/6606823367_e89dc52a95_n.jpg'),\n",
              " PosixPath('/root/.keras/datasets/flower_photos/sunflowers/9538283930_0faea083bb_n.jpg'),\n",
              " PosixPath('/root/.keras/datasets/flower_photos/sunflowers/3766264038_ea701c7131_n.jpg'),\n",
              " PosixPath('/root/.keras/datasets/flower_photos/sunflowers/23286304156_3635f7de05.jpg'),\n",
              " PosixPath('/root/.keras/datasets/flower_photos/sunflowers/12471290635_1f9e3aae16_n.jpg'),\n",
              " PosixPath('/root/.keras/datasets/flower_photos/sunflowers/10386522775_4f8c616999_m.jpg'),\n",
              " PosixPath('/root/.keras/datasets/flower_photos/sunflowers/6265084065_7a8b30cc6e_n.jpg'),\n",
              " PosixPath('/root/.keras/datasets/flower_photos/sunflowers/23894449029_bf0f34d35d_n.jpg'),\n",
              " PosixPath('/root/.keras/datasets/flower_photos/sunflowers/3196753837_411b03682d_n.jpg'),\n",
              " PosixPath('/root/.keras/datasets/flower_photos/sunflowers/20658775992_1619cd0a9b_n.jpg'),\n",
              " PosixPath('/root/.keras/datasets/flower_photos/sunflowers/3951246342_930138610b_n.jpg'),\n",
              " PosixPath('/root/.keras/datasets/flower_photos/sunflowers/14623719696_1bb7970208_n.jpg'),\n",
              " PosixPath('/root/.keras/datasets/flower_photos/sunflowers/14244410747_22691ece4a_n.jpg'),\n",
              " PosixPath('/root/.keras/datasets/flower_photos/sunflowers/3154932290_4bf43bd34f_n.jpg'),\n",
              " PosixPath('/root/.keras/datasets/flower_photos/sunflowers/9535500195_543d0b729b.jpg'),\n",
              " PosixPath('/root/.keras/datasets/flower_photos/sunflowers/6133988570_9dc778e622_m.jpg'),\n",
              " PosixPath('/root/.keras/datasets/flower_photos/sunflowers/5004121118_e9393e60d0_n.jpg'),\n",
              " PosixPath('/root/.keras/datasets/flower_photos/sunflowers/15108515192_f686dce398_n.jpg'),\n",
              " PosixPath('/root/.keras/datasets/flower_photos/sunflowers/19453165201_2aa747e0bf.jpg'),\n",
              " PosixPath('/root/.keras/datasets/flower_photos/sunflowers/265422922_bbbde781d2_m.jpg'),\n",
              " PosixPath('/root/.keras/datasets/flower_photos/sunflowers/2803725948_5fd1f2fc99_n.jpg'),\n",
              " PosixPath('/root/.keras/datasets/flower_photos/sunflowers/20183028616_beb937e75c_m.jpg'),\n",
              " PosixPath('/root/.keras/datasets/flower_photos/sunflowers/3665455426_9cd1c3af4a_n.jpg'),\n",
              " PosixPath('/root/.keras/datasets/flower_photos/sunflowers/15493195788_60530f2398_m.jpg'),\n",
              " PosixPath('/root/.keras/datasets/flower_photos/sunflowers/8543642705_b841b0e5f6.jpg'),\n",
              " PosixPath('/root/.keras/datasets/flower_photos/sunflowers/184682095_46f8607278.jpg'),\n",
              " PosixPath('/root/.keras/datasets/flower_photos/sunflowers/58636535_bc53ef0a21_m.jpg'),\n",
              " PosixPath('/root/.keras/datasets/flower_photos/sunflowers/15241052342_466b38b68d.jpg'),\n",
              " PosixPath('/root/.keras/datasets/flower_photos/sunflowers/9240005603_6a9b71dcea_n.jpg'),\n",
              " PosixPath('/root/.keras/datasets/flower_photos/sunflowers/2588234269_c4bfd0d8b9_n.jpg'),\n",
              " PosixPath('/root/.keras/datasets/flower_photos/sunflowers/4848279231_c4960e28b2_n.jpg'),\n",
              " PosixPath('/root/.keras/datasets/flower_photos/sunflowers/9431890901_cd11bda584_n.jpg'),\n",
              " PosixPath('/root/.keras/datasets/flower_photos/sunflowers/265450085_6e9f276e2e.jpg'),\n",
              " PosixPath('/root/.keras/datasets/flower_photos/sunflowers/14741866338_bdc8bfc8d5_n.jpg'),\n",
              " PosixPath('/root/.keras/datasets/flower_photos/sunflowers/3894586562_5dbbdc4354_n.jpg'),\n",
              " PosixPath('/root/.keras/datasets/flower_photos/sunflowers/4235259239_21f2eb4f2e.jpg'),\n",
              " PosixPath('/root/.keras/datasets/flower_photos/sunflowers/7510240282_87554c7418_n.jpg'),\n",
              " PosixPath('/root/.keras/datasets/flower_photos/sunflowers/7654774598_6b715a8d3e.jpg'),\n",
              " PosixPath('/root/.keras/datasets/flower_photos/sunflowers/21821266773_7113d34c35_m.jpg'),\n",
              " PosixPath('/root/.keras/datasets/flower_photos/sunflowers/7176736574_14446539cb_n.jpg'),\n",
              " PosixPath('/root/.keras/datasets/flower_photos/sunflowers/7820398908_4316bbba45.jpg'),\n",
              " PosixPath('/root/.keras/datasets/flower_photos/sunflowers/215798354_429de28c2d.jpg'),\n",
              " PosixPath('/root/.keras/datasets/flower_photos/sunflowers/15191613243_82ee8e0fe8.jpg'),\n",
              " PosixPath('/root/.keras/datasets/flower_photos/sunflowers/2767688889_b176b0c3fb.jpg'),\n",
              " PosixPath('/root/.keras/datasets/flower_photos/sunflowers/15043962658_dcf9dff5e9_n.jpg'),\n",
              " PosixPath('/root/.keras/datasets/flower_photos/sunflowers/22183521655_56221bf2a4_n.jpg'),\n",
              " PosixPath('/root/.keras/datasets/flower_photos/sunflowers/20410697750_c43973d1eb.jpg'),\n",
              " PosixPath('/root/.keras/datasets/flower_photos/sunflowers/9610371852_179e7781ce.jpg'),\n",
              " PosixPath('/root/.keras/datasets/flower_photos/sunflowers/4664767140_fe01231322_n.jpg'),\n",
              " PosixPath('/root/.keras/datasets/flower_photos/sunflowers/8071460469_a7c2c34b97_n.jpg'),\n",
              " PosixPath('/root/.keras/datasets/flower_photos/sunflowers/9339697826_88c9c4dc50.jpg'),\n",
              " PosixPath('/root/.keras/datasets/flower_photos/sunflowers/2807106374_f422b5f00c.jpg'),\n",
              " PosixPath('/root/.keras/datasets/flower_photos/sunflowers/2443921986_d4582c123a.jpg'),\n",
              " PosixPath('/root/.keras/datasets/flower_photos/sunflowers/6074427492_1b5bab7848_n.jpg'),\n",
              " PosixPath('/root/.keras/datasets/flower_photos/sunflowers/821368661_4ab4343f5a.jpg'),\n",
              " PosixPath('/root/.keras/datasets/flower_photos/sunflowers/3784815653_5df39aa9c2_m.jpg'),\n",
              " PosixPath('/root/.keras/datasets/flower_photos/sunflowers/19756232959_17cde3b9f0_m.jpg'),\n",
              " PosixPath('/root/.keras/datasets/flower_photos/sunflowers/2950505226_529e013bf7_m.jpg'),\n",
              " PosixPath('/root/.keras/datasets/flower_photos/sunflowers/127192624_afa3d9cb84.jpg'),\n",
              " PosixPath('/root/.keras/datasets/flower_photos/sunflowers/7530313068_ddd2dc1f44_m.jpg'),\n",
              " PosixPath('/root/.keras/datasets/flower_photos/sunflowers/4933229197_ff75a40d55.jpg'),\n",
              " PosixPath('/root/.keras/datasets/flower_photos/sunflowers/6061175433_95fdb12f32_n.jpg'),\n",
              " PosixPath('/root/.keras/datasets/flower_photos/sunflowers/9359374034_21fb12d613_n.jpg'),\n",
              " PosixPath('/root/.keras/datasets/flower_photos/sunflowers/5998488415_a6bacd9f83.jpg'),\n",
              " PosixPath('/root/.keras/datasets/flower_photos/sunflowers/5979111555_61b400c070_n.jpg'),\n",
              " PosixPath('/root/.keras/datasets/flower_photos/sunflowers/5995136822_8e1eed76f5_n.jpg'),\n",
              " PosixPath('/root/.keras/datasets/flower_photos/sunflowers/5139969631_743880e01d_n.jpg'),\n",
              " PosixPath('/root/.keras/datasets/flower_photos/sunflowers/15238348741_c2fb12ecf2_m.jpg'),\n",
              " PosixPath('/root/.keras/datasets/flower_photos/sunflowers/10386540106_1431e73086_m.jpg'),\n",
              " PosixPath('/root/.keras/datasets/flower_photos/sunflowers/20183071136_c297e74fcc_m.jpg'),\n",
              " PosixPath('/root/.keras/datasets/flower_photos/sunflowers/12282924083_fb80aa17d4_n.jpg'),\n",
              " PosixPath('/root/.keras/datasets/flower_photos/sunflowers/15054751430_5af76f6096_n.jpg'),\n",
              " PosixPath('/root/.keras/datasets/flower_photos/sunflowers/15495578821_92c6d14252_n.jpg'),\n",
              " PosixPath('/root/.keras/datasets/flower_photos/sunflowers/4933823194_33f6e32c5a.jpg'),\n",
              " PosixPath('/root/.keras/datasets/flower_photos/sunflowers/5076821914_c21b58fd4c_m.jpg'),\n",
              " PosixPath('/root/.keras/datasets/flower_photos/sunflowers/1240626292_52cd5d7fb1_m.jpg'),\n",
              " PosixPath('/root/.keras/datasets/flower_photos/sunflowers/417251603_69f0ee57a9_m.jpg'),\n",
              " PosixPath('/root/.keras/datasets/flower_photos/sunflowers/5037531593_e2daf4c7f1.jpg'),\n",
              " PosixPath('/root/.keras/datasets/flower_photos/sunflowers/418056361_1dfac1c151_n.jpg'),\n",
              " PosixPath('/root/.keras/datasets/flower_photos/sunflowers/147804446_ef9244c8ce_m.jpg'),\n",
              " PosixPath('/root/.keras/datasets/flower_photos/sunflowers/4080112931_cb20b3d51a_n.jpg'),\n",
              " PosixPath('/root/.keras/datasets/flower_photos/sunflowers/4816636411_0135bfe2c9_n.jpg'),\n",
              " PosixPath('/root/.keras/datasets/flower_photos/sunflowers/15072973261_73e2912ef2_n.jpg'),\n",
              " PosixPath('/root/.keras/datasets/flower_photos/sunflowers/14925398441_107f3e0304_n.jpg'),\n",
              " PosixPath('/root/.keras/datasets/flower_photos/sunflowers/6122711533_2c219f0392_n.jpg'),\n",
              " PosixPath('/root/.keras/datasets/flower_photos/sunflowers/7581713708_8eae6794f2.jpg'),\n",
              " PosixPath('/root/.keras/datasets/flower_photos/sunflowers/5967284308_85714d8cf7_m.jpg'),\n",
              " PosixPath('/root/.keras/datasets/flower_photos/sunflowers/19508264965_d1dfb565ea_n.jpg'),\n",
              " PosixPath('/root/.keras/datasets/flower_photos/sunflowers/5923085671_f81dd1cf6f.jpg'),\n",
              " PosixPath('/root/.keras/datasets/flower_photos/sunflowers/3912497870_a2f91c3a65_n.jpg'),\n",
              " PosixPath('/root/.keras/datasets/flower_photos/sunflowers/20777358950_c63ea569a1.jpg'),\n",
              " PosixPath('/root/.keras/datasets/flower_photos/sunflowers/2944298800_1984bd4f8a_m.jpg'),\n",
              " PosixPath('/root/.keras/datasets/flower_photos/sunflowers/2823659190_afdabee45c.jpg'),\n",
              " PosixPath('/root/.keras/datasets/flower_photos/sunflowers/8563099326_8be9177101.jpg'),\n",
              " PosixPath('/root/.keras/datasets/flower_photos/sunflowers/5994586159_1dd99d66b4_n.jpg'),\n",
              " PosixPath('/root/.keras/datasets/flower_photos/sunflowers/9410186154_465642ed35.jpg'),\n",
              " PosixPath('/root/.keras/datasets/flower_photos/sunflowers/6908789145_814d448bb1_n.jpg'),\n",
              " PosixPath('/root/.keras/datasets/flower_photos/sunflowers/1043442695_4556c4c13d_n.jpg'),\n",
              " PosixPath('/root/.keras/datasets/flower_photos/sunflowers/7791014076_07a897cb85_n.jpg'),\n",
              " PosixPath('/root/.keras/datasets/flower_photos/sunflowers/8081530919_c882d46bb0_n.jpg'),\n",
              " PosixPath('/root/.keras/datasets/flower_photos/sunflowers/13354458753_7b586f7c95_n.jpg'),\n",
              " PosixPath('/root/.keras/datasets/flower_photos/sunflowers/3681233294_4f06cd8903.jpg'),\n",
              " PosixPath('/root/.keras/datasets/flower_photos/sunflowers/20621698991_dcb323911d.jpg'),\n",
              " PosixPath('/root/.keras/datasets/flower_photos/sunflowers/18766965343_9f42d4bedc_m.jpg'),\n",
              " PosixPath('/root/.keras/datasets/flower_photos/sunflowers/45045005_57354ee844.jpg'),\n",
              " PosixPath('/root/.keras/datasets/flower_photos/sunflowers/15030133005_9728102622_z.jpg'),\n",
              " PosixPath('/root/.keras/datasets/flower_photos/sunflowers/9240129413_f240ce7866_n.jpg'),\n",
              " PosixPath('/root/.keras/datasets/flower_photos/sunflowers/5973935729_2868f2db1f_n.jpg'),\n",
              " PosixPath('/root/.keras/datasets/flower_photos/sunflowers/9497774935_a7daec5433_n.jpg'),\n",
              " PosixPath('/root/.keras/datasets/flower_photos/sunflowers/1379256773_bb2eb0d95b_n.jpg'),\n",
              " PosixPath('/root/.keras/datasets/flower_photos/sunflowers/253586685_ee5b5f5232.jpg'),\n",
              " PosixPath('/root/.keras/datasets/flower_photos/sunflowers/20342824594_9740b7b160.jpg'),\n",
              " PosixPath('/root/.keras/datasets/flower_photos/sunflowers/5970301989_fe3a68aac8_m.jpg'),\n",
              " PosixPath('/root/.keras/datasets/flower_photos/sunflowers/5007598545_90e08e81c1_n.jpg'),\n",
              " PosixPath('/root/.keras/datasets/flower_photos/sunflowers/14472246629_72373111e6_m.jpg'),\n",
              " PosixPath('/root/.keras/datasets/flower_photos/sunflowers/4933230547_394f618009_m.jpg'),\n",
              " PosixPath('/root/.keras/datasets/flower_photos/sunflowers/4878447831_e904c60cf8_n.jpg'),\n",
              " PosixPath('/root/.keras/datasets/flower_photos/sunflowers/7935826214_9b57628203_m.jpg'),\n",
              " PosixPath('/root/.keras/datasets/flower_photos/sunflowers/2328600790_90e2942557_n.jpg'),\n",
              " PosixPath('/root/.keras/datasets/flower_photos/sunflowers/4271193206_666ef60aa0_m.jpg'),\n",
              " PosixPath('/root/.keras/datasets/flower_photos/sunflowers/184682652_c927a49226_m.jpg'),\n",
              " PosixPath('/root/.keras/datasets/flower_photos/sunflowers/20171662239_f69b6c12bd_n.jpg'),\n",
              " PosixPath('/root/.keras/datasets/flower_photos/sunflowers/21984860006_20dfacea1c_m.jpg'),\n",
              " PosixPath('/root/.keras/datasets/flower_photos/sunflowers/4186808407_06688641e2_n.jpg'),\n",
              " PosixPath('/root/.keras/datasets/flower_photos/sunflowers/20905163782_312e2c3bda_n.jpg'),\n",
              " PosixPath('/root/.keras/datasets/flower_photos/sunflowers/200011914_93f57ed68b.jpg'),\n",
              " PosixPath('/root/.keras/datasets/flower_photos/sunflowers/164670455_29d8e02bbd_n.jpg'),\n",
              " PosixPath('/root/.keras/datasets/flower_photos/sunflowers/14646281372_5f13794b47.jpg'),\n",
              " PosixPath('/root/.keras/datasets/flower_photos/sunflowers/14266917699_91b207888e.jpg'),\n",
              " PosixPath('/root/.keras/datasets/flower_photos/sunflowers/6204049536_1ac4f09232_n.jpg'),\n",
              " PosixPath('/root/.keras/datasets/flower_photos/sunflowers/1297092593_e573c0a3d6.jpg'),\n",
              " PosixPath('/root/.keras/datasets/flower_photos/sunflowers/14646282112_447cc7d1f9.jpg'),\n",
              " PosixPath('/root/.keras/datasets/flower_photos/sunflowers/4895718876_0246882882_n.jpg'),\n",
              " PosixPath('/root/.keras/datasets/flower_photos/sunflowers/15218421476_9d5f38e732_m.jpg'),\n",
              " PosixPath('/root/.keras/datasets/flower_photos/sunflowers/5042785753_392cc4e74d_n.jpg'),\n",
              " PosixPath('/root/.keras/datasets/flower_photos/sunflowers/14646279002_9cdf97be97_n.jpg'),\n",
              " PosixPath('/root/.keras/datasets/flower_photos/sunflowers/8249000137_eddfffa380_n.jpg'),\n",
              " PosixPath('/root/.keras/datasets/flower_photos/sunflowers/2767658405_1e2043f44c_n.jpg'),\n",
              " PosixPath('/root/.keras/datasets/flower_photos/sunflowers/6495554833_86eb8faa8e_n.jpg'),\n",
              " PosixPath('/root/.keras/datasets/flower_photos/sunflowers/9460336948_6ae968be93.jpg'),\n",
              " PosixPath('/root/.keras/datasets/flower_photos/sunflowers/18237156988_9ceb46a8de_n.jpg'),\n",
              " PosixPath('/root/.keras/datasets/flower_photos/sunflowers/39271782_b4335d09ae_n.jpg'),\n",
              " PosixPath('/root/.keras/datasets/flower_photos/sunflowers/5139977423_d413b23fde_m.jpg'),\n",
              " PosixPath('/root/.keras/datasets/flower_photos/sunflowers/6140892289_92805cc590.jpg'),\n",
              " PosixPath('/root/.keras/datasets/flower_photos/sunflowers/5830614551_e460a1215c.jpg'),\n",
              " PosixPath('/root/.keras/datasets/flower_photos/sunflowers/4989952542_35f2cdd5e2_n.jpg'),\n",
              " PosixPath('/root/.keras/datasets/flower_photos/sunflowers/4932144003_cbffc89bf0.jpg'),\n",
              " PosixPath('/root/.keras/datasets/flower_photos/sunflowers/3883895985_bd20198371.jpg'),\n",
              " PosixPath('/root/.keras/datasets/flower_photos/sunflowers/9497774249_7f5ae70927_m.jpg'),\n",
              " PosixPath('/root/.keras/datasets/flower_photos/sunflowers/8174935717_d19367d502.jpg'),\n",
              " PosixPath('/root/.keras/datasets/flower_photos/sunflowers/21374127408_5ffbe87bb2.jpg'),\n",
              " PosixPath('/root/.keras/datasets/flower_photos/sunflowers/12471791574_bb1be83df4.jpg'),\n",
              " PosixPath('/root/.keras/datasets/flower_photos/sunflowers/22255608949_172d7c8d22_m.jpg'),\n",
              " PosixPath('/root/.keras/datasets/flower_photos/sunflowers/15218871222_c104032ca1.jpg'),\n",
              " PosixPath('/root/.keras/datasets/flower_photos/sunflowers/14858674096_ed0fc1a130.jpg'),\n",
              " PosixPath('/root/.keras/datasets/flower_photos/sunflowers/244074259_47ce6d3ef9.jpg'),\n",
              " PosixPath('/root/.keras/datasets/flower_photos/sunflowers/6482016439_b0d06dac04.jpg'),\n",
              " PosixPath('/root/.keras/datasets/flower_photos/sunflowers/4689061249_6498da5013.jpg'),\n",
              " PosixPath('/root/.keras/datasets/flower_photos/sunflowers/4814106562_7c3564d2d9_n.jpg'),\n",
              " PosixPath('/root/.keras/datasets/flower_photos/sunflowers/14741907467_fab96f3b2b_n.jpg'),\n",
              " PosixPath('/root/.keras/datasets/flower_photos/sunflowers/22183529245_ce13557515_m.jpg'),\n",
              " PosixPath('/root/.keras/datasets/flower_photos/sunflowers/5330608174_b49f7a4c48_m.jpg'),\n",
              " PosixPath('/root/.keras/datasets/flower_photos/sunflowers/10862313945_e8ed9202d9_m.jpg'),\n",
              " PosixPath('/root/.keras/datasets/flower_photos/sunflowers/4528959364_fa544b0f4e_m.jpg'),\n",
              " PosixPath('/root/.keras/datasets/flower_photos/sunflowers/6199086734_b7ddc65816_m.jpg'),\n",
              " PosixPath('/root/.keras/datasets/flower_photos/sunflowers/6606753075_72ee32aa30_m.jpg'),\n",
              " PosixPath('/root/.keras/datasets/flower_photos/sunflowers/2979133707_84aab35b5d.jpg'),\n",
              " PosixPath('/root/.keras/datasets/flower_photos/sunflowers/1008566138_6927679c8a.jpg'),\n",
              " PosixPath('/root/.keras/datasets/flower_photos/sunflowers/20972862281_5367f4af88.jpg'),\n",
              " PosixPath('/root/.keras/datasets/flower_photos/sunflowers/184682920_97ae41ce60_m.jpg'),\n",
              " PosixPath('/root/.keras/datasets/flower_photos/sunflowers/4942258704_c4146b710a_n.jpg'),\n",
              " PosixPath('/root/.keras/datasets/flower_photos/sunflowers/44079668_34dfee3da1_n.jpg'),\n",
              " PosixPath('/root/.keras/datasets/flower_photos/sunflowers/18828283553_e46504ae38.jpg'),\n",
              " PosixPath('/root/.keras/datasets/flower_photos/sunflowers/9485002920_59af6f4cac.jpg'),\n",
              " PosixPath('/root/.keras/datasets/flower_photos/sunflowers/6866250080_ae80df0cd5_m.jpg'),\n",
              " PosixPath('/root/.keras/datasets/flower_photos/sunflowers/15054752730_fcf54d475e_m.jpg'),\n",
              " PosixPath('/root/.keras/datasets/flower_photos/sunflowers/5015462205_440898fe41_n.jpg'),\n",
              " PosixPath('/root/.keras/datasets/flower_photos/sunflowers/6606815161_3c4372760f.jpg'),\n",
              " PosixPath('/root/.keras/datasets/flower_photos/sunflowers/9555827829_74e6f60f1d_m.jpg'),\n",
              " PosixPath('/root/.keras/datasets/flower_photos/sunflowers/9651392844_77f90589ba_n.jpg'),\n",
              " PosixPath('/root/.keras/datasets/flower_photos/sunflowers/2816503473_580306e772.jpg'),\n",
              " PosixPath('/root/.keras/datasets/flower_photos/sunflowers/6606806621_5267acdd38.jpg'),\n",
              " PosixPath('/root/.keras/datasets/flower_photos/sunflowers/1715303025_e7065327e2.jpg'),\n",
              " PosixPath('/root/.keras/datasets/flower_photos/sunflowers/1064662314_c5a7891b9f_m.jpg'),\n",
              " PosixPath('/root/.keras/datasets/flower_photos/sunflowers/6116210027_61923f4b64.jpg'),\n",
              " PosixPath('/root/.keras/datasets/flower_photos/sunflowers/9655029591_7a77f87500.jpg'),\n",
              " PosixPath('/root/.keras/datasets/flower_photos/sunflowers/14741813010_5d44e33088_n.jpg'),\n",
              " PosixPath('/root/.keras/datasets/flower_photos/sunflowers/20481273479_d459834a3e_n.jpg'),\n",
              " PosixPath('/root/.keras/datasets/flower_photos/sunflowers/15054865768_2cc87ac9d4_m.jpg'),\n",
              " PosixPath('/root/.keras/datasets/flower_photos/sunflowers/145303599_2627e23815_n.jpg'),\n",
              " PosixPath('/root/.keras/datasets/flower_photos/sunflowers/5955475577_3d923874d9_n.jpg'),\n",
              " PosixPath('/root/.keras/datasets/flower_photos/sunflowers/2697194548_ec8f8de97c_n.jpg'),\n",
              " PosixPath('/root/.keras/datasets/flower_photos/sunflowers/164670176_9f5b9c7965.jpg'),\n",
              " PosixPath('/root/.keras/datasets/flower_photos/sunflowers/5923085891_27617463fe.jpg'),\n",
              " PosixPath('/root/.keras/datasets/flower_photos/sunflowers/1880606744_23e3dc4f6b_n.jpg'),\n",
              " PosixPath('/root/.keras/datasets/flower_photos/sunflowers/8705462313_4458d64cd4.jpg'),\n",
              " PosixPath('/root/.keras/datasets/flower_photos/sunflowers/235651658_a7b3e7cbdd.jpg'),\n",
              " PosixPath('/root/.keras/datasets/flower_photos/sunflowers/8478248531_1a16e232b5.jpg'),\n",
              " PosixPath('/root/.keras/datasets/flower_photos/sunflowers/3731075939_6c92d7fe68_m.jpg'),\n",
              " PosixPath('/root/.keras/datasets/flower_photos/sunflowers/3832945398_96509d192b.jpg'),\n",
              " PosixPath('/root/.keras/datasets/flower_photos/sunflowers/6495559397_61d01c0c57.jpg'),\n",
              " PosixPath('/root/.keras/datasets/flower_photos/sunflowers/18843967474_9cb552716b.jpg'),\n",
              " PosixPath('/root/.keras/datasets/flower_photos/sunflowers/5966729883_67f4fede93.jpg'),\n",
              " PosixPath('/root/.keras/datasets/flower_photos/sunflowers/7820305664_82148f3bfb_n.jpg'),\n",
              " PosixPath('/root/.keras/datasets/flower_photos/sunflowers/27466794_57e4fe5656.jpg'),\n",
              " PosixPath('/root/.keras/datasets/flower_photos/sunflowers/4933228903_9ae82d0b9d.jpg'),\n",
              " PosixPath('/root/.keras/datasets/flower_photos/tulips/2436998042_4906ea07af.jpg'),\n",
              " PosixPath('/root/.keras/datasets/flower_photos/tulips/14861513337_4ef0bfa40d.jpg'),\n",
              " PosixPath('/root/.keras/datasets/flower_photos/tulips/5661431592_cea1108261_n.jpg'),\n",
              " PosixPath('/root/.keras/datasets/flower_photos/tulips/8623173256_3f0eb4c506.jpg'),\n",
              " PosixPath('/root/.keras/datasets/flower_photos/tulips/8712263493_3db76c5f82.jpg'),\n",
              " PosixPath('/root/.keras/datasets/flower_photos/tulips/497305666_b5d4348826_n.jpg'),\n",
              " PosixPath('/root/.keras/datasets/flower_photos/tulips/15452909878_0c4941f729_m.jpg'),\n",
              " PosixPath('/root/.keras/datasets/flower_photos/tulips/8838347159_746d14e6c1_m.jpg'),\n",
              " PosixPath('/root/.keras/datasets/flower_photos/tulips/13903937027_44b9f2f5b8.jpg'),\n",
              " PosixPath('/root/.keras/datasets/flower_photos/tulips/4442928974_9672d630b2_n.jpg'),\n",
              " PosixPath('/root/.keras/datasets/flower_photos/tulips/14097366955_84ef6369f2.jpg'),\n",
              " PosixPath('/root/.keras/datasets/flower_photos/tulips/2087981909_fd468de5c4_n.jpg'),\n",
              " PosixPath('/root/.keras/datasets/flower_photos/tulips/16680927427_07ca6e4552_n.jpg'),\n",
              " PosixPath('/root/.keras/datasets/flower_photos/tulips/112650879_82adc2cc04_n.jpg'),\n",
              " PosixPath('/root/.keras/datasets/flower_photos/tulips/9870557734_88eb3b9e3b_n.jpg'),\n",
              " PosixPath('/root/.keras/datasets/flower_photos/tulips/13530786873_0d34880300_n.jpg'),\n",
              " PosixPath('/root/.keras/datasets/flower_photos/tulips/14651385476_7ccb20e594_m.jpg'),\n",
              " PosixPath('/root/.keras/datasets/flower_photos/tulips/4516198427_0e5099cd8e.jpg'),\n",
              " PosixPath('/root/.keras/datasets/flower_photos/tulips/6948277038_89d7ff42e2_m.jpg'),\n",
              " PosixPath('/root/.keras/datasets/flower_photos/tulips/3254533919_cb0b8af26c.jpg'),\n",
              " PosixPath('/root/.keras/datasets/flower_photos/tulips/14674389605_df3c0bcfa1_m.jpg'),\n",
              " PosixPath('/root/.keras/datasets/flower_photos/tulips/17781940352_a45e4289a5.jpg'),\n",
              " PosixPath('/root/.keras/datasets/flower_photos/tulips/13509967925_eaaeefa396_m.jpg'),\n",
              " PosixPath('/root/.keras/datasets/flower_photos/tulips/8706523526_a0f161b72b.jpg'),\n",
              " PosixPath('/root/.keras/datasets/flower_photos/tulips/14022473102_3b24ca08cb_m.jpg'),\n",
              " PosixPath('/root/.keras/datasets/flower_photos/tulips/3213012716_b4c0f7db88.jpg'),\n",
              " PosixPath('/root/.keras/datasets/flower_photos/tulips/212720516_df4965ebda_n.jpg'),\n",
              " PosixPath('/root/.keras/datasets/flower_photos/tulips/12949131454_4d3392f4dd_n.jpg'),\n",
              " PosixPath('/root/.keras/datasets/flower_photos/tulips/5691672942_70a93d70fc.jpg'),\n",
              " PosixPath('/root/.keras/datasets/flower_photos/tulips/3457017604_90e4de7480_m.jpg'),\n",
              " PosixPath('/root/.keras/datasets/flower_photos/tulips/8712243901_54d686319e_m.jpg'),\n",
              " PosixPath('/root/.keras/datasets/flower_photos/tulips/3253320570_b617f7fd4b.jpg'),\n",
              " PosixPath('/root/.keras/datasets/flower_photos/tulips/2418823693_72eec80f42_n.jpg'),\n",
              " PosixPath('/root/.keras/datasets/flower_photos/tulips/3143110904_66b4851a58_n.jpg'),\n",
              " PosixPath('/root/.keras/datasets/flower_photos/tulips/19425920580_cdc8f49aed_n.jpg'),\n",
              " PosixPath('/root/.keras/datasets/flower_photos/tulips/2813658587_337eeef124_n.jpg'),\n",
              " PosixPath('/root/.keras/datasets/flower_photos/tulips/14491997336_36ba524713.jpg'),\n",
              " PosixPath('/root/.keras/datasets/flower_photos/tulips/4579128789_1561575458_n.jpg'),\n",
              " PosixPath('/root/.keras/datasets/flower_photos/tulips/5700394524_dc6f8fa9cd_n.jpg'),\n",
              " PosixPath('/root/.keras/datasets/flower_photos/tulips/8712268519_f4c2c39a06_n.jpg'),\n",
              " PosixPath('/root/.keras/datasets/flower_photos/tulips/5417115048_3b78d6c875_n.jpg'),\n",
              " PosixPath('/root/.keras/datasets/flower_photos/tulips/14487762578_baba13d16a_m.jpg'),\n",
              " PosixPath('/root/.keras/datasets/flower_photos/tulips/4300258119_b03f2f956e.jpg'),\n",
              " PosixPath('/root/.keras/datasets/flower_photos/tulips/3150964108_24dbec4b23_m.jpg'),\n",
              " PosixPath('/root/.keras/datasets/flower_photos/tulips/8733586143_3139db6e9e_n.jpg'),\n",
              " PosixPath('/root/.keras/datasets/flower_photos/tulips/8523133474_d2c0845b54.jpg'),\n",
              " PosixPath('/root/.keras/datasets/flower_photos/tulips/4497973347_57480ffee9_m.jpg'),\n",
              " PosixPath('/root/.keras/datasets/flower_photos/tulips/14836105101_1d07520932_m.jpg'),\n",
              " PosixPath('/root/.keras/datasets/flower_photos/tulips/15147464747_594599c855_m.jpg'),\n",
              " PosixPath('/root/.keras/datasets/flower_photos/tulips/14087792403_f34f37ba3b_m.jpg'),\n",
              " PosixPath('/root/.keras/datasets/flower_photos/tulips/7247182064_f8d6759446_n.jpg'),\n",
              " PosixPath('/root/.keras/datasets/flower_photos/tulips/4602809199_d3030cef01_m.jpg'),\n",
              " PosixPath('/root/.keras/datasets/flower_photos/tulips/7205145492_baec4dbb94.jpg'),\n",
              " PosixPath('/root/.keras/datasets/flower_photos/tulips/8681825637_837a63513a_n.jpg'),\n",
              " PosixPath('/root/.keras/datasets/flower_photos/tulips/7002703410_3e97b29da5_n.jpg'),\n",
              " PosixPath('/root/.keras/datasets/flower_photos/tulips/5691090657_2f1e9bf49e_n.jpg'),\n",
              " PosixPath('/root/.keras/datasets/flower_photos/tulips/2481827798_6087d71134.jpg'),\n",
              " PosixPath('/root/.keras/datasets/flower_photos/tulips/14074147406_7ab87aec79_n.jpg'),\n",
              " PosixPath('/root/.keras/datasets/flower_photos/tulips/133692329_c1150ed811_n.jpg'),\n",
              " PosixPath('/root/.keras/datasets/flower_photos/tulips/4590702749_e1df8e0c1b.jpg'),\n",
              " PosixPath('/root/.keras/datasets/flower_photos/tulips/467702445_b8676f60fb_n.jpg'),\n",
              " PosixPath('/root/.keras/datasets/flower_photos/tulips/16594995743_ce72c61201_n.jpg'),\n",
              " PosixPath('/root/.keras/datasets/flower_photos/tulips/3396033831_bb88d93630.jpg'),\n",
              " PosixPath('/root/.keras/datasets/flower_photos/tulips/14057246122_8598b665bd.jpg'),\n",
              " PosixPath('/root/.keras/datasets/flower_photos/tulips/13530796853_e5993f57d6_n.jpg'),\n",
              " PosixPath('/root/.keras/datasets/flower_photos/tulips/7266196114_c2a736a15a_m.jpg'),\n",
              " PosixPath('/root/.keras/datasets/flower_photos/tulips/5674127693_1ddbd81097.jpg'),\n",
              " PosixPath('/root/.keras/datasets/flower_photos/tulips/8713391394_4b679ea1e3_n.jpg'),\n",
              " PosixPath('/root/.keras/datasets/flower_photos/tulips/5700466891_2bcb17fa68_n.jpg'),\n",
              " PosixPath('/root/.keras/datasets/flower_photos/tulips/7166539842_43b7e02883.jpg'),\n",
              " PosixPath('/root/.keras/datasets/flower_photos/tulips/2431737309_1468526f8b.jpg'),\n",
              " PosixPath('/root/.keras/datasets/flower_photos/tulips/13997627965_22d81601ce_n.jpg'),\n",
              " PosixPath('/root/.keras/datasets/flower_photos/tulips/6227136437_6117068599_m.jpg'),\n",
              " PosixPath('/root/.keras/datasets/flower_photos/tulips/3430229687_32645b5738.jpg'),\n",
              " PosixPath('/root/.keras/datasets/flower_photos/tulips/4555842486_dd214a84d7_n.jpg'),\n",
              " PosixPath('/root/.keras/datasets/flower_photos/tulips/134143359_71fa8dd9a4.jpg'),\n",
              " PosixPath('/root/.keras/datasets/flower_photos/tulips/10995953955_089572caf0.jpg'),\n",
              " PosixPath('/root/.keras/datasets/flower_photos/tulips/2430566689_8543552f9b.jpg'),\n",
              " PosixPath('/root/.keras/datasets/flower_photos/tulips/6325571510_7544b27e57_n.jpg'),\n",
              " PosixPath('/root/.keras/datasets/flower_photos/tulips/303858799_942b9c09e7_m.jpg'),\n",
              " PosixPath('/root/.keras/datasets/flower_photos/tulips/510698601_9f61d6f8d8.jpg'),\n",
              " PosixPath('/root/.keras/datasets/flower_photos/tulips/16677542612_a78a8ca8b3_m.jpg'),\n",
              " PosixPath('/root/.keras/datasets/flower_photos/tulips/16862349256_0a1f91ab53.jpg'),\n",
              " PosixPath('/root/.keras/datasets/flower_photos/tulips/8689672277_b289909f97_n.jpg'),\n",
              " PosixPath('/root/.keras/datasets/flower_photos/tulips/2271507463_15c48d41c4_n.jpg'),\n",
              " PosixPath('/root/.keras/datasets/flower_photos/tulips/16907559551_05ded87fb2_n.jpg'),\n",
              " PosixPath('/root/.keras/datasets/flower_photos/tulips/1353748522_b9c630b162.jpg'),\n",
              " PosixPath('/root/.keras/datasets/flower_photos/tulips/4117620896_070e5887ae_m.jpg'),\n",
              " PosixPath('/root/.keras/datasets/flower_photos/tulips/2481015475_b71a12917d.jpg'),\n",
              " PosixPath('/root/.keras/datasets/flower_photos/tulips/3186520634_30e1c67aa5_n.jpg'),\n",
              " PosixPath('/root/.keras/datasets/flower_photos/tulips/13176576813_50e77cc1d9.jpg'),\n",
              " PosixPath('/root/.keras/datasets/flower_photos/tulips/8521597402_4b6169ba05.jpg'),\n",
              " PosixPath('/root/.keras/datasets/flower_photos/tulips/5718781677_d5e9267115_n.jpg'),\n",
              " PosixPath('/root/.keras/datasets/flower_photos/tulips/480228053_513791d474.jpg'),\n",
              " PosixPath('/root/.keras/datasets/flower_photos/tulips/8677713853_1312f65e71.jpg'),\n",
              " PosixPath('/root/.keras/datasets/flower_photos/tulips/471298577_cc7558bcf1.jpg'),\n",
              " PosixPath('/root/.keras/datasets/flower_photos/tulips/8713389178_66bceb71a8_n.jpg'),\n",
              " PosixPath('/root/.keras/datasets/flower_photos/tulips/8713357842_9964a93473_n.jpg'),\n",
              " PosixPath('/root/.keras/datasets/flower_photos/tulips/13976206001_fd1c2cbd60.jpg'),\n",
              " PosixPath('/root/.keras/datasets/flower_photos/tulips/13561986193_cf645b2b9a.jpg'),\n",
              " PosixPath('/root/.keras/datasets/flower_photos/tulips/6187740107_9813ccc41e.jpg'),\n",
              " PosixPath('/root/.keras/datasets/flower_photos/tulips/6982913043_3b873c6a25.jpg'),\n",
              " PosixPath('/root/.keras/datasets/flower_photos/tulips/8601596054_33e40c2a7a.jpg'),\n",
              " PosixPath('/root/.keras/datasets/flower_photos/tulips/15881325303_f00807a051_n.jpg'),\n",
              " PosixPath('/root/.keras/datasets/flower_photos/tulips/12616825773_9aa4245b57_n.jpg'),\n",
              " PosixPath('/root/.keras/datasets/flower_photos/tulips/7145978709_2d1596f462.jpg'),\n",
              " PosixPath('/root/.keras/datasets/flower_photos/tulips/13910471347_30c8bf4de1_n.jpg'),\n",
              " PosixPath('/root/.keras/datasets/flower_photos/tulips/9947374414_fdf1d0861c_n.jpg'),\n",
              " PosixPath('/root/.keras/datasets/flower_photos/tulips/13555215723_cf2c11626b_b.jpg'),\n",
              " PosixPath('/root/.keras/datasets/flower_photos/tulips/15647243236_2778501cf5_n.jpg'),\n",
              " PosixPath('/root/.keras/datasets/flower_photos/tulips/16904202259_8f45d045c3_m.jpg'),\n",
              " PosixPath('/root/.keras/datasets/flower_photos/tulips/14054827092_f359f5fcbd_m.jpg'),\n",
              " PosixPath('/root/.keras/datasets/flower_photos/tulips/12916135413_dafcf3089e_n.jpg'),\n",
              " PosixPath('/root/.keras/datasets/flower_photos/tulips/7342871880_c17fe0eb4f_m.jpg'),\n",
              " PosixPath('/root/.keras/datasets/flower_photos/tulips/6948239566_0ac0a124ee_n.jpg'),\n",
              " PosixPath('/root/.keras/datasets/flower_photos/tulips/4578030672_e6aefd45af.jpg'),\n",
              " PosixPath('/root/.keras/datasets/flower_photos/tulips/8622237974_b362574785_n.jpg'),\n",
              " PosixPath('/root/.keras/datasets/flower_photos/tulips/7166552648_28b6dce578.jpg'),\n",
              " PosixPath('/root/.keras/datasets/flower_photos/tulips/14015957646_8317a0f1d9_n.jpg'),\n",
              " PosixPath('/root/.keras/datasets/flower_photos/tulips/7166554924_432aaae4b2_n.jpg'),\n",
              " PosixPath('/root/.keras/datasets/flower_photos/tulips/9947385346_3a8cacea02_n.jpg'),\n",
              " PosixPath('/root/.keras/datasets/flower_photos/tulips/5470898169_52a5ab876c_n.jpg'),\n",
              " PosixPath('/root/.keras/datasets/flower_photos/tulips/5388013398_09a8a0f166_m.jpg'),\n",
              " PosixPath('/root/.keras/datasets/flower_photos/tulips/486896118_bcc7b8e1d6.jpg'),\n",
              " PosixPath('/root/.keras/datasets/flower_photos/tulips/13539827514_79b60b6c22_n.jpg'),\n",
              " PosixPath('/root/.keras/datasets/flower_photos/tulips/13923539227_bdab038dc8.jpg'),\n",
              " PosixPath('/root/.keras/datasets/flower_photos/tulips/3455026124_d66cafb9fc.jpg'),\n",
              " PosixPath('/root/.keras/datasets/flower_photos/tulips/16265883604_92be82b973.jpg'),\n",
              " PosixPath('/root/.keras/datasets/flower_photos/tulips/16938892686_3613ea68e8_n.jpg'),\n",
              " PosixPath('/root/.keras/datasets/flower_photos/tulips/15082212714_ff87e8fcb1_m.jpg'),\n",
              " PosixPath('/root/.keras/datasets/flower_photos/tulips/14097676864_4ca8e8b20d_n.jpg'),\n",
              " PosixPath('/root/.keras/datasets/flower_photos/tulips/17309951996_552d632cbb_n.jpg'),\n",
              " PosixPath('/root/.keras/datasets/flower_photos/tulips/17844723633_da85357fe3.jpg'),\n",
              " PosixPath('/root/.keras/datasets/flower_photos/tulips/6931715360_34edc5a372_m.jpg'),\n",
              " PosixPath('/root/.keras/datasets/flower_photos/tulips/8712267391_c756f18ee7_n.jpg'),\n",
              " PosixPath('/root/.keras/datasets/flower_photos/tulips/14255917256_84c23c572b.jpg'),\n",
              " PosixPath('/root/.keras/datasets/flower_photos/tulips/6931489544_2f35025f7b_m.jpg'),\n",
              " PosixPath('/root/.keras/datasets/flower_photos/tulips/2432389721_4d14971060_n.jpg'),\n",
              " PosixPath('/root/.keras/datasets/flower_photos/tulips/3447650747_8299786b80_n.jpg'),\n",
              " PosixPath('/root/.keras/datasets/flower_photos/tulips/13561966423_e5c641fe11.jpg'),\n",
              " PosixPath('/root/.keras/datasets/flower_photos/tulips/14078067843_3573fcfc85_n.jpg'),\n",
              " PosixPath('/root/.keras/datasets/flower_photos/tulips/5757091018_cdfd79dfa6_m.jpg'),\n",
              " PosixPath('/root/.keras/datasets/flower_photos/tulips/16862422576_5226e8d1d0.jpg'),\n",
              " PosixPath('/root/.keras/datasets/flower_photos/tulips/4955884820_7e4ce4d7e5_m.jpg'),\n",
              " PosixPath('/root/.keras/datasets/flower_photos/tulips/18270448366_d5676dec64_z.jpg'),\n",
              " PosixPath('/root/.keras/datasets/flower_photos/tulips/13910028149_6c9d5485ef.jpg'),\n",
              " PosixPath('/root/.keras/datasets/flower_photos/tulips/9976515506_d496c5e72c.jpg'),\n",
              " PosixPath('/root/.keras/datasets/flower_photos/tulips/2249756775_02e693beda_n.jpg'),\n",
              " PosixPath('/root/.keras/datasets/flower_photos/tulips/4681062529_36186617d9.jpg'),\n",
              " PosixPath('/root/.keras/datasets/flower_photos/tulips/14110615113_bd7b3fcb84.jpg'),\n",
              " PosixPath('/root/.keras/datasets/flower_photos/tulips/3502974120_9f1eceaf8b_n.jpg'),\n",
              " PosixPath('/root/.keras/datasets/flower_photos/tulips/4312181724_16dab26afb_n.jpg'),\n",
              " PosixPath('/root/.keras/datasets/flower_photos/tulips/8729501081_b993185542_m.jpg'),\n",
              " PosixPath('/root/.keras/datasets/flower_photos/tulips/6770436217_281da51e49_n.jpg'),\n",
              " PosixPath('/root/.keras/datasets/flower_photos/tulips/9831362123_5aac525a99_n.jpg'),\n",
              " PosixPath('/root/.keras/datasets/flower_photos/tulips/17224410762_402455ed8f.jpg'),\n",
              " PosixPath('/root/.keras/datasets/flower_photos/tulips/8757486380_90952c5377.jpg'),\n",
              " PosixPath('/root/.keras/datasets/flower_photos/tulips/13531007054_c88deaf302_n.jpg'),\n",
              " PosixPath('/root/.keras/datasets/flower_photos/tulips/6905876618_12732b74de_b.jpg'),\n",
              " PosixPath('/root/.keras/datasets/flower_photos/tulips/466409031_4c10294db5_m.jpg'),\n",
              " PosixPath('/root/.keras/datasets/flower_photos/tulips/3421027755_cdb8fef8e8_n.jpg'),\n",
              " PosixPath('/root/.keras/datasets/flower_photos/tulips/7177682195_c29265748d_n.jpg'),\n",
              " PosixPath('/root/.keras/datasets/flower_photos/tulips/402525114_eaa60c8341_m.jpg'),\n",
              " PosixPath('/root/.keras/datasets/flower_photos/tulips/2336919121_851ebc4754.jpg'),\n",
              " PosixPath('/root/.keras/datasets/flower_photos/tulips/8713398906_28e59a225a_n.jpg'),\n",
              " PosixPath('/root/.keras/datasets/flower_photos/tulips/3105702091_f02ce75226.jpg'),\n",
              " PosixPath('/root/.keras/datasets/flower_photos/tulips/100930342_92e8746431_n.jpg'),\n",
              " PosixPath('/root/.keras/datasets/flower_photos/tulips/13542672763_20c3cb9272.jpg'),\n",
              " PosixPath('/root/.keras/datasets/flower_photos/tulips/14087860553_bf4f8ec56d.jpg'),\n",
              " PosixPath('/root/.keras/datasets/flower_photos/tulips/7179796338_05e8b1c87b.jpg'),\n",
              " PosixPath('/root/.keras/datasets/flower_photos/tulips/9030467406_05e93ff171_n.jpg'),\n",
              " PosixPath('/root/.keras/datasets/flower_photos/tulips/112651128_7b5d39a346_m.jpg'),\n",
              " PosixPath('/root/.keras/datasets/flower_photos/tulips/14487712670_aebe715525_m.jpg'),\n",
              " PosixPath('/root/.keras/datasets/flower_photos/tulips/17078716890_68e0723389_n.jpg'),\n",
              " PosixPath('/root/.keras/datasets/flower_photos/tulips/8702982836_75222725d7.jpg'),\n",
              " PosixPath('/root/.keras/datasets/flower_photos/tulips/5633266048_4f4bfb2cf1_n.jpg'),\n",
              " PosixPath('/root/.keras/datasets/flower_photos/tulips/3510294699_bc4c72cb7d_n.jpg'),\n",
              " PosixPath('/root/.keras/datasets/flower_photos/tulips/3614805920_7a6610aa4b_n.jpg'),\n",
              " PosixPath('/root/.keras/datasets/flower_photos/tulips/13997641965_80d5dab542_n.jpg'),\n",
              " PosixPath('/root/.keras/datasets/flower_photos/tulips/14266093711_66d18a1e44_n.jpg'),\n",
              " PosixPath('/root/.keras/datasets/flower_photos/tulips/13539404903_cd113e3e9b.jpg'),\n",
              " PosixPath('/root/.keras/datasets/flower_photos/tulips/14746916178_40403cc57e.jpg'),\n",
              " PosixPath('/root/.keras/datasets/flower_photos/tulips/3433265727_0b8022e091.jpg'),\n",
              " PosixPath('/root/.keras/datasets/flower_photos/tulips/8454707381_453b4862eb_m.jpg'),\n",
              " PosixPath('/root/.keras/datasets/flower_photos/tulips/506350421_2ba59e568e_m.jpg'),\n",
              " PosixPath('/root/.keras/datasets/flower_photos/tulips/8712270665_57b5bda0a2_n.jpg'),\n",
              " PosixPath('/root/.keras/datasets/flower_photos/tulips/13530687085_9b515735ef_m.jpg'),\n",
              " PosixPath('/root/.keras/datasets/flower_photos/tulips/8713397358_0505cc0176_n.jpg'),\n",
              " PosixPath('/root/.keras/datasets/flower_photos/tulips/16711791713_e54bc9c1af_n.jpg'),\n",
              " PosixPath('/root/.keras/datasets/flower_photos/tulips/2447151631_7551e6377b_n.jpg'),\n",
              " PosixPath('/root/.keras/datasets/flower_photos/tulips/112428665_d8f3632f36_n.jpg'),\n",
              " PosixPath('/root/.keras/datasets/flower_photos/tulips/14073608876_49db8ac97d_n.jpg'),\n",
              " PosixPath('/root/.keras/datasets/flower_photos/tulips/5738195260_b3fc107aa7_n.jpg'),\n",
              " PosixPath('/root/.keras/datasets/flower_photos/tulips/13999402743_f563f6b685_n.jpg'),\n",
              " PosixPath('/root/.keras/datasets/flower_photos/tulips/5698944116_fd35fe6bea.jpg'),\n",
              " PosixPath('/root/.keras/datasets/flower_photos/tulips/13197345653_0f685b3c97_n.jpg'),\n",
              " PosixPath('/root/.keras/datasets/flower_photos/tulips/489506904_9b68ba211c.jpg'),\n",
              " PosixPath('/root/.keras/datasets/flower_photos/tulips/16303377824_6e9128b4bd.jpg'),\n",
              " PosixPath('/root/.keras/datasets/flower_photos/tulips/495094547_fd2d999c44.jpg'),\n",
              " PosixPath('/root/.keras/datasets/flower_photos/tulips/12517756805_56b74be742.jpg'),\n",
              " PosixPath('/root/.keras/datasets/flower_photos/tulips/15632065904_0d9caf174b.jpg'),\n",
              " PosixPath('/root/.keras/datasets/flower_photos/tulips/4580206494_9386c81ed8_n.jpg'),\n",
              " PosixPath('/root/.keras/datasets/flower_photos/tulips/5680695867_baff72fc7c.jpg'),\n",
              " PosixPath('/root/.keras/datasets/flower_photos/tulips/440714501_9f8268e1b0.jpg'),\n",
              " PosixPath('/root/.keras/datasets/flower_photos/tulips/16670377091_87987f50a4_n.jpg'),\n",
              " PosixPath('/root/.keras/datasets/flower_photos/tulips/15275478257_fbd5850708_n.jpg'),\n",
              " PosixPath('/root/.keras/datasets/flower_photos/tulips/443600168_cb08d56511.jpg'),\n",
              " PosixPath('/root/.keras/datasets/flower_photos/tulips/3476945045_97ff41e8ec_n.jpg'),\n",
              " PosixPath('/root/.keras/datasets/flower_photos/tulips/4679869990_7c5f28f2fe_n.jpg'),\n",
              " PosixPath('/root/.keras/datasets/flower_photos/tulips/7448453762_aea8739f1b.jpg'),\n",
              " PosixPath('/root/.keras/datasets/flower_photos/tulips/10094729603_eeca3f2cb6.jpg'),\n",
              " PosixPath('/root/.keras/datasets/flower_photos/tulips/7144016605_e159b6c06b_m.jpg'),\n",
              " PosixPath('/root/.keras/datasets/flower_photos/tulips/9048307967_40a164a459_m.jpg'),\n",
              " PosixPath('/root/.keras/datasets/flower_photos/tulips/13562266594_69b807f90c.jpg'),\n",
              " PosixPath('/root/.keras/datasets/flower_photos/tulips/2361075034_cf730b8682.jpg'),\n",
              " PosixPath('/root/.keras/datasets/flower_photos/tulips/5704726114_a92f753514.jpg'),\n",
              " PosixPath('/root/.keras/datasets/flower_photos/tulips/14087439392_969444f56e.jpg'),\n",
              " PosixPath('/root/.keras/datasets/flower_photos/tulips/4588904196_3c5825c7f4.jpg'),\n",
              " PosixPath('/root/.keras/datasets/flower_photos/tulips/12163418275_bd6a1edd61.jpg'),\n",
              " PosixPath('/root/.keras/datasets/flower_photos/tulips/3991742794_edebc6c8a0_n.jpg'),\n",
              " PosixPath('/root/.keras/datasets/flower_photos/tulips/11441893003_ab83672800.jpg'),\n",
              " PosixPath('/root/.keras/datasets/flower_photos/tulips/14957470_6a8c272a87_m.jpg'),\n",
              " PosixPath('/root/.keras/datasets/flower_photos/tulips/2421740440_f82ced8582.jpg'),\n",
              " PosixPath('/root/.keras/datasets/flower_photos/tulips/133960364_d87f883c15_n.jpg'),\n",
              " PosixPath('/root/.keras/datasets/flower_photos/tulips/14087361621_9fefb8dbef.jpg'),\n",
              " PosixPath('/root/.keras/datasets/flower_photos/tulips/13910678178_25e8b1a5e5.jpg'),\n",
              " PosixPath('/root/.keras/datasets/flower_photos/tulips/8817622133_a42bb90e38_n.jpg'),\n",
              " PosixPath('/root/.keras/datasets/flower_photos/tulips/3540595981_73f14d1227_n.jpg'),\n",
              " PosixPath('/root/.keras/datasets/flower_photos/tulips/3002863623_cd83d6e634.jpg'),\n",
              " PosixPath('/root/.keras/datasets/flower_photos/tulips/7094271655_79a6f972c1_n.jpg'),\n",
              " PosixPath('/root/.keras/datasets/flower_photos/tulips/10686568196_b1915544a8.jpg'),\n",
              " PosixPath('/root/.keras/datasets/flower_photos/tulips/738207467_fc59cfcd9b_z.jpg'),\n",
              " PosixPath('/root/.keras/datasets/flower_photos/tulips/14171673854_1208c19be3_m.jpg'),\n",
              " PosixPath('/root/.keras/datasets/flower_photos/tulips/6799076717_575944af91_m.jpg'),\n",
              " PosixPath('/root/.keras/datasets/flower_photos/tulips/14066056226_d8564a083e_m.jpg'),\n",
              " PosixPath('/root/.keras/datasets/flower_photos/tulips/4290566894_c7f061583d_m.jpg'),\n",
              " PosixPath('/root/.keras/datasets/flower_photos/tulips/8710148289_6fc196a0f8_n.jpg'),\n",
              " PosixPath('/root/.keras/datasets/flower_photos/tulips/14122029097_3e3285ca5c_n.jpg'),\n",
              " PosixPath('/root/.keras/datasets/flower_photos/tulips/4562423077_00b16240dc_n.jpg'),\n",
              " PosixPath('/root/.keras/datasets/flower_photos/tulips/3506615859_9850830cf0.jpg'),\n",
              " PosixPath('/root/.keras/datasets/flower_photos/tulips/13923036338_1ce32c6d4f.jpg'),\n",
              " PosixPath('/root/.keras/datasets/flower_photos/tulips/6958342976_a4a9483488_n.jpg'),\n",
              " PosixPath('/root/.keras/datasets/flower_photos/tulips/110147301_ad921e2828.jpg'),\n",
              " PosixPath('/root/.keras/datasets/flower_photos/tulips/17994129033_bbd0acba62_n.jpg'),\n",
              " PosixPath('/root/.keras/datasets/flower_photos/tulips/130685245_dcdd23836f_m.jpg'),\n",
              " PosixPath('/root/.keras/datasets/flower_photos/tulips/16110795216_b3e44697b4_m.jpg'),\n",
              " PosixPath('/root/.keras/datasets/flower_photos/tulips/113960470_38fab8f2fb_m.jpg'),\n",
              " PosixPath('/root/.keras/datasets/flower_photos/tulips/2426849837_baefd9a518_n.jpg'),\n",
              " PosixPath('/root/.keras/datasets/flower_photos/tulips/8713388322_e5ae26263b_n.jpg'),\n",
              " PosixPath('/root/.keras/datasets/flower_photos/tulips/4644110077_ff252cd7c4.jpg'),\n",
              " PosixPath('/root/.keras/datasets/flower_photos/tulips/14262354955_cc2ab3b112_m.jpg'),\n",
              " PosixPath('/root/.keras/datasets/flower_photos/tulips/5546723510_39a5a10d3a_n.jpg'),\n",
              " PosixPath('/root/.keras/datasets/flower_photos/tulips/574373182_2776669a79_n.jpg'),\n",
              " PosixPath('/root/.keras/datasets/flower_photos/tulips/8673412732_f8fd690ee4_n.jpg'),\n",
              " PosixPath('/root/.keras/datasets/flower_photos/tulips/7166567320_0a2beb6d42.jpg'),\n",
              " PosixPath('/root/.keras/datasets/flower_photos/tulips/6936380780_19c26c918a.jpg'),\n",
              " PosixPath('/root/.keras/datasets/flower_photos/tulips/16732302779_8aa56f255d_n.jpg'),\n",
              " PosixPath('/root/.keras/datasets/flower_photos/tulips/14110616533_e04775e7b1.jpg'),\n",
              " PosixPath('/root/.keras/datasets/flower_photos/tulips/6958243974_8851425ddb_n.jpg'),\n",
              " PosixPath('/root/.keras/datasets/flower_photos/tulips/17189456156_6fc1067831.jpg'),\n",
              " PosixPath('/root/.keras/datasets/flower_photos/tulips/16930121391_a4092ecf00_n.jpg'),\n",
              " PosixPath('/root/.keras/datasets/flower_photos/tulips/11746548_26b3256922_n.jpg'),\n",
              " PosixPath('/root/.keras/datasets/flower_photos/tulips/13531001134_72052100e1_m.jpg'),\n",
              " PosixPath('/root/.keras/datasets/flower_photos/tulips/2344751399_71620039f2_n.jpg'),\n",
              " PosixPath('/root/.keras/datasets/flower_photos/tulips/2834890466_1cf220fba1.jpg'),\n",
              " PosixPath('/root/.keras/datasets/flower_photos/tulips/4579079143_f65b39dd9f.jpg'),\n",
              " PosixPath('/root/.keras/datasets/flower_photos/tulips/4574785121_5d8ec4626e.jpg'),\n",
              " PosixPath('/root/.keras/datasets/flower_photos/tulips/16282277874_b92776b194.jpg'),\n",
              " PosixPath('/root/.keras/datasets/flower_photos/tulips/8750288831_5e49a9f29b.jpg'),\n",
              " PosixPath('/root/.keras/datasets/flower_photos/tulips/14090546015_504c8becd1.jpg'),\n",
              " PosixPath('/root/.keras/datasets/flower_photos/tulips/14088017343_dd158d2eb5.jpg'),\n",
              " PosixPath('/root/.keras/datasets/flower_photos/tulips/5691100579_4a2767360a.jpg'),\n",
              " PosixPath('/root/.keras/datasets/flower_photos/tulips/7042692841_f323799c0d.jpg'),\n",
              " PosixPath('/root/.keras/datasets/flower_photos/tulips/16645809126_613b1e3ebe_m.jpg'),\n",
              " PosixPath('/root/.keras/datasets/flower_photos/tulips/54895006_55b49052dc.jpg'),\n",
              " PosixPath('/root/.keras/datasets/flower_photos/tulips/13979840624_28466cb3ec_n.jpg'),\n",
              " PosixPath('/root/.keras/datasets/flower_photos/tulips/2272006181_785f1be94f_n.jpg'),\n",
              " PosixPath('/root/.keras/datasets/flower_photos/tulips/4521037085_70d5802e1d_m.jpg'),\n",
              " PosixPath('/root/.keras/datasets/flower_photos/tulips/18245124970_e68fd3f3c3.jpg'),\n",
              " PosixPath('/root/.keras/datasets/flower_photos/tulips/483880052_19fdb26a9f.jpg'),\n",
              " PosixPath('/root/.keras/datasets/flower_photos/tulips/7064778965_ddcc6ee9f2.jpg'),\n",
              " PosixPath('/root/.keras/datasets/flower_photos/tulips/14009216519_b608321cf2_n.jpg'),\n",
              " PosixPath('/root/.keras/datasets/flower_photos/tulips/8554190977_37ac747799_m.jpg'),\n",
              " PosixPath('/root/.keras/datasets/flower_photos/tulips/8712270243_8512cf4fbd.jpg'),\n",
              " PosixPath('/root/.keras/datasets/flower_photos/tulips/16139439153_fbdee29a10_n.jpg'),\n",
              " PosixPath('/root/.keras/datasets/flower_photos/tulips/8717900362_2aa508e9e5.jpg'),\n",
              " PosixPath('/root/.keras/datasets/flower_photos/tulips/450607536_4fd9f5d17c_m.jpg'),\n",
              " PosixPath('/root/.keras/datasets/flower_photos/tulips/7166626128_8e0983ac8e_n.jpg'),\n",
              " PosixPath('/root/.keras/datasets/flower_photos/tulips/4522764992_e9d70b82c1_m.jpg'),\n",
              " PosixPath('/root/.keras/datasets/flower_photos/tulips/3626132563_d955973447_n.jpg'),\n",
              " PosixPath('/root/.keras/datasets/flower_photos/tulips/5674695558_61397a1584.jpg'),\n",
              " PosixPath('/root/.keras/datasets/flower_photos/tulips/13562271714_d534531374.jpg'),\n",
              " PosixPath('/root/.keras/datasets/flower_photos/tulips/4573822295_5c5c6a5f6a.jpg'),\n",
              " PosixPath('/root/.keras/datasets/flower_photos/tulips/13561912705_e5eeb41433_z.jpg'),\n",
              " PosixPath('/root/.keras/datasets/flower_photos/tulips/16700863150_ddaa4d89b4_n.jpg'),\n",
              " PosixPath('/root/.keras/datasets/flower_photos/tulips/14093565032_a8f1e349d1.jpg'),\n",
              " PosixPath('/root/.keras/datasets/flower_photos/tulips/14487705209_ea723109e1_m.jpg'),\n",
              " PosixPath('/root/.keras/datasets/flower_photos/tulips/12548574923_5e90f4ceea.jpg'),\n",
              " PosixPath('/root/.keras/datasets/flower_photos/tulips/8686332852_c6dcb2e86b.jpg'),\n",
              " PosixPath('/root/.keras/datasets/flower_photos/tulips/132538273_335240fe5b_n.jpg'),\n",
              " PosixPath('/root/.keras/datasets/flower_photos/tulips/14054827391_139fb54432.jpg'),\n",
              " ...]"
            ]
          },
          "metadata": {},
          "execution_count": 6
        }
      ]
    },
    {
      "cell_type": "markdown",
      "source": [
        "This line is used to show all the images in all 5 folders we have."
      ],
      "metadata": {
        "id": "b50_KtdsKTbe"
      }
    },
    {
      "cell_type": "code",
      "source": [
        "import PIL"
      ],
      "metadata": {
        "id": "aInILmfZbp5Y"
      },
      "execution_count": null,
      "outputs": []
    },
    {
      "cell_type": "markdown",
      "source": [
        "This library is used to show images."
      ],
      "metadata": {
        "id": "cijbntc3Kb6v"
      }
    },
    {
      "cell_type": "code",
      "source": [
        "PIL.Image.open(list(data_file.glob('*/*'))[500]) #used to show the images"
      ],
      "metadata": {
        "colab": {
          "base_uri": "https://localhost:8080/",
          "height": 255
        },
        "id": "mPb_6clrZFjH",
        "outputId": "8cbf2565-e904-4b26-a049-bda67610497c"
      },
      "execution_count": null,
      "outputs": [
        {
          "output_type": "execute_result",
          "data": {
            "text/plain": [
              "<PIL.JpegImagePlugin.JpegImageFile image mode=RGB size=320x238 at 0x7F9F47213E50>"
            ],
            "image/png": "[encoded data removed]"
          },
          "metadata": {},
          "execution_count": 8
        }
      ]
    },
    {
      "cell_type": "markdown",
      "source": [
        "Discovering the data."
      ],
      "metadata": {
        "id": "oJzAb8yOMYuC"
      }
    },
    {
      "cell_type": "code",
      "source": [
        "#splitting the data and also splitting it to image and lable\n",
        "train_ds = tf.keras.utils.image_dataset_from_directory(data_file, image_size= (180, 180), batch_size= 32, validation_split= 0.2 , subset= 'training', seed= 1)\n",
        "val_ds = tf.keras.utils.image_dataset_from_directory(data_file, image_size= (180, 180), batch_size= 32, validation_split= 0.2 , subset= 'validation', seed= 1)"
      ],
      "metadata": {
        "colab": {
          "base_uri": "https://localhost:8080/"
        },
        "id": "SRaWLsHWbkB0",
        "outputId": "a2fba3ce-c56d-4d3c-a4b4-5f1d5ef013ee"
      },
      "execution_count": 118,
      "outputs": [
        {
          "output_type": "stream",
          "name": "stdout",
          "text": [
            "Found 3670 files belonging to 5 classes.\n",
            "Using 2936 files for training.\n",
            "Found 3670 files belonging to 5 classes.\n",
            "Using 734 files for validation.\n"
          ]
        }
      ]
    },
    {
      "cell_type": "markdown",
      "source": [
        "Now these 2 lines are very important as they make a lot of required \n",
        "operations on the dataset.\n",
        "\n",
        "*  first of all it splits our dataset into 2 subsets the first one is for training and the second one is for testing, in addition to that it splits each of our subsets into images and label in them so you dont need to split them yourself.\n",
        "\n",
        "*  It also can know completely by itself that we have 5 classes ,as it considers each folder in our data file to be a class.\n",
        "\n",
        "* In addition to all that it rescales all the images to the same size which is (180,180),as we can't give the machine images with different shapes."
      ],
      "metadata": {
        "id": "yTRBUT2jMcE7"
      }
    },
    {
      "cell_type": "code",
      "source": [
        "autotune= tf.data.AUTOTUNE     #for multi threading"
      ],
      "metadata": {
        "id": "IX5qi6Ledn3d"
      },
      "execution_count": 119,
      "outputs": []
    },
    {
      "cell_type": "code",
      "source": [
        "train_ds = train_ds.cache().shuffle(1000).prefetch(buffer_size= autotune)\n",
        "val_ds = val_ds.cache().shuffle(1000).prefetch(buffer_size= autotune)"
      ],
      "metadata": {
        "id": "V_gvO26ZeArF"
      },
      "execution_count": 120,
      "outputs": []
    },
    {
      "cell_type": "markdown",
      "source": [
        "The above 2 cells are used to make the system work in parallelization, so instead of loading each image by itself when we need it we load all the images on our cache memory on the machine we are using ,so our first epoch might take some time to load all the images then it will only take a few seconds for the upcoming epochs."
      ],
      "metadata": {
        "id": "3dSnNHenOwr6"
      }
    },
    {
      "cell_type": "code",
      "source": [
        "data_augmentation = tf.keras.Sequential([ #this is used to make more than one copy from the same image to reduce the overfitting and improve the accuracy\n",
        "  tf.keras.layers.RandomFlip(\"horizontal_and_vertical\", input_shape= (180,180,3)),\n",
        "  tf.keras.layers.RandomRotation(0.2),\n",
        "  tf.keras.layers.RandomZoom(0.3),\n",
        "  tf.keras.layers.RandomCrop(120,120)\n",
        "])"
      ],
      "metadata": {
        "id": "rShILpr04LNi"
      },
      "execution_count": 121,
      "outputs": []
    },
    {
      "cell_type": "markdown",
      "source": [
        "This is one of the methods to ovecome overfitting.\n",
        "What this does is it takes each image and makes different copies from it by flipping rotating and zooming with a different values in each image,this adds some noise to our model so it can't just memorize all the data and give us a perfect accuracy on the training dataset but when we try the testing dataset the accuracy hits rock bottom."
      ],
      "metadata": {
        "id": "2Busp5jQP_uL"
      }
    },
    {
      "cell_type": "code",
      "source": [
        "model = tf.keras.Sequential() #the start of our model"
      ],
      "metadata": {
        "id": "9otjovwDg1yN"
      },
      "execution_count": 122,
      "outputs": []
    },
    {
      "cell_type": "markdown",
      "source": [
        "This initializes our model."
      ],
      "metadata": {
        "id": "goLkJJ3KS1C5"
      }
    },
    {
      "cell_type": "code",
      "source": [
        "model.add(data_augmentation) #first of all we add the data augmentation layer"
      ],
      "metadata": {
        "id": "RJ1ZM9IY4Mpi"
      },
      "execution_count": 123,
      "outputs": []
    },
    {
      "cell_type": "markdown",
      "source": [
        "The first layer is the data augmentation layer which we talked about earlier to make our different copies before feeding it to the machine."
      ],
      "metadata": {
        "id": "dpslSiaiTSIs"
      }
    },
    {
      "cell_type": "code",
      "source": [
        "model.add(tf.keras.layers.Rescaling(1/255,input_shape= (180,180,3))) #normalization layer \n",
        "\n",
        "model.add(tf.keras.layers.Conv2D(32,kernel_size= (5,5),padding= 'same',activation= 'relu')) #first conv and pooling layers to concentrate only on the important pixels of the image\n",
        "model.add(tf.keras.layers.MaxPool2D(pool_size= (2,2)))\n",
        "\n",
        "model.add(tf.keras.layers.Conv2D(64,kernel_size= (3,3),padding= 'same',activation= 'relu')) #second layer\n",
        "model.add(tf.keras.layers.MaxPool2D(pool_size= (2,2)))\n",
        "\n",
        "model.add(tf.keras.layers.Conv2D(96,kernel_size= (3,3),padding= 'same',activation= 'relu'))  #third layer\n",
        "model.add(tf.keras.layers.MaxPool2D(pool_size= (2,2)))\n",
        "\n",
        "model.add(tf.keras.layers.Conv2D(96,kernel_size= (3,3),padding= 'same',activation= 'relu'))  #fourth layer\n",
        "model.add(tf.keras.layers.MaxPool2D(pool_size= (2,2)))"
      ],
      "metadata": {
        "id": "byQEZ-t7hB8O"
      },
      "execution_count": 124,
      "outputs": []
    },
    {
      "cell_type": "markdown",
      "source": [
        "1.  The first layer is our normalization layer, so we know that each pixel has a value that ranges from 0 to 255, and we can't give that to the machine as it will prioritize the higher values, so what we do is that we rescale all the pixels values to range from 0 to 1 by dividing all the values by 255.\n",
        "\n",
        "2.   the second layer is our first convolutional layer which has to be paired with a pooling layer after it, they have to come in the right order, so what these 2 layers do is that we know that not all the pixels of our image are very important, so these 2 layers foucses on the important pixels of the image ,this will make it easier for our model to only take the important details which will help him to differentiate between the 5 classes of flowers we have , \n",
        "\n"
      ],
      "metadata": {
        "id": "5vSY3-dhTgEK"
      }
    },
    {
      "cell_type": "code",
      "source": [
        "model.add(tf.keras.layers.Flatten())   #to make the input matrix in one dimension "
      ],
      "metadata": {
        "id": "KRacWnoDi8Nd"
      },
      "execution_count": 125,
      "outputs": []
    },
    {
      "cell_type": "markdown",
      "source": [
        "so our input is like a matrix this layer is used to flatten this matrix to make it in one dimension (as a vector)"
      ],
      "metadata": {
        "id": "P4WPK6vnYFBY"
      }
    },
    {
      "cell_type": "code",
      "source": [
        "model.add(tf.keras.layers.Dense(512 , activation= 'relu')) #our first hidden layer "
      ],
      "metadata": {
        "id": "eNmkdNTWjDwH"
      },
      "execution_count": 126,
      "outputs": []
    },
    {
      "cell_type": "markdown",
      "source": [
        "This is our first hidden layer, the first argument is our number of neurons,the second argument is our activation function."
      ],
      "metadata": {
        "id": "qTYiLr2PYU3T"
      }
    },
    {
      "cell_type": "code",
      "source": [
        "model.add(tf.keras.layers.Dropout(0.2))  #dropping out some data to minimize overfitting "
      ],
      "metadata": {
        "id": "EIh4ZLskybJ5"
      },
      "execution_count": 127,
      "outputs": []
    },
    {
      "cell_type": "markdown",
      "source": [
        "This is another method to add noise to the model to reduce overfitting as it drops some data so the model can't just memorize it, here we dropped  20% of the data."
      ],
      "metadata": {
        "id": "eoj-1KkuY4C_"
      }
    },
    {
      "cell_type": "code",
      "source": [
        "#model.add(tf.keras.layers.Dense(128 , activation= 'relu')) #our first hidden layer "
      ],
      "metadata": {
        "id": "Ny8t39kPGV3O"
      },
      "execution_count": 128,
      "outputs": []
    },
    {
      "cell_type": "markdown",
      "source": [
        "This is the second hidden layer."
      ],
      "metadata": {
        "id": "0cPVQW-ZZGXO"
      }
    },
    {
      "cell_type": "code",
      "source": [
        "model.add(tf.keras.layers.Dense(5))"
      ],
      "metadata": {
        "id": "116E8E1fGYZL"
      },
      "execution_count": 129,
      "outputs": []
    },
    {
      "cell_type": "markdown",
      "source": [
        "This is our final layer which is the output layer, we have 5 neurons in this layer as we have 5 classes."
      ],
      "metadata": {
        "id": "DS20T4gFZLgZ"
      }
    },
    {
      "cell_type": "code",
      "source": [
        "model.summary()"
      ],
      "metadata": {
        "id": "2NNzKKvqjTM8",
        "colab": {
          "base_uri": "https://localhost:8080/"
        },
        "outputId": "26f4ec28-72b1-4f71-ed43-4ad141eadcd8"
      },
      "execution_count": 130,
      "outputs": [
        {
          "output_type": "stream",
          "name": "stdout",
          "text": [
            "Model: \"sequential_15\"\n",
            "_________________________________________________________________\n",
            " Layer (type)                Output Shape              Param #   \n",
            "=================================================================\n",
            " sequential_14 (Sequential)  (None, 120, 120, 3)       0         \n",
            "                                                                 \n",
            " rescaling_6 (Rescaling)     (None, 120, 120, 3)       0         \n",
            "                                                                 \n",
            " conv2d_18 (Conv2D)          (None, 120, 120, 32)      2432      \n",
            "                                                                 \n",
            " max_pooling2d_18 (MaxPoolin  (None, 60, 60, 32)       0         \n",
            " g2D)                                                            \n",
            "                                                                 \n",
            " conv2d_19 (Conv2D)          (None, 60, 60, 64)        18496     \n",
            "                                                                 \n",
            " max_pooling2d_19 (MaxPoolin  (None, 30, 30, 64)       0         \n",
            " g2D)                                                            \n",
            "                                                                 \n",
            " conv2d_20 (Conv2D)          (None, 30, 30, 96)        55392     \n",
            "                                                                 \n",
            " max_pooling2d_20 (MaxPoolin  (None, 15, 15, 96)       0         \n",
            " g2D)                                                            \n",
            "                                                                 \n",
            " conv2d_21 (Conv2D)          (None, 15, 15, 96)        83040     \n",
            "                                                                 \n",
            " max_pooling2d_21 (MaxPoolin  (None, 7, 7, 96)         0         \n",
            " g2D)                                                            \n",
            "                                                                 \n",
            " flatten_7 (Flatten)         (None, 4704)              0         \n",
            "                                                                 \n",
            " dense_15 (Dense)            (None, 512)               2408960   \n",
            "                                                                 \n",
            " dropout_6 (Dropout)         (None, 512)               0         \n",
            "                                                                 \n",
            " dense_16 (Dense)            (None, 5)                 2565      \n",
            "                                                                 \n",
            "=================================================================\n",
            "Total params: 2,570,885\n",
            "Trainable params: 2,570,885\n",
            "Non-trainable params: 0\n",
            "_________________________________________________________________\n"
          ]
        }
      ]
    },
    {
      "cell_type": "markdown",
      "source": [
        "The summary gives as a final insight on our model to see if we made any mistakes."
      ],
      "metadata": {
        "id": "C4dugAx-Zrp1"
      }
    },
    {
      "cell_type": "code",
      "source": [
        "model.compile(optimizer= tf.keras.optimizers.Adam(learning_rate= 0.001) , loss= tf.keras.losses.SparseCategoricalCrossentropy(from_logits= True), metrics = 'accuracy')\n",
        "#building the model\n"
      ],
      "metadata": {
        "id": "Ix5UOgxwjUYP"
      },
      "execution_count": 131,
      "outputs": []
    },
    {
      "cell_type": "markdown",
      "source": [
        "This builds our model , the optimizers job is to change the weights to try and minimize the loss function and maximize the metrics function which is the accuracy in our case. "
      ],
      "metadata": {
        "id": "lT1NBNDvZ1YE"
      }
    },
    {
      "cell_type": "code",
      "source": [
        "history = model.fit(train_ds, batch_size= 32, epochs= 200, validation_data= val_ds) #training the data and also monitoring the val accuracy"
      ],
      "metadata": {
        "id": "ORUezQgBkJf_",
        "colab": {
          "base_uri": "https://localhost:8080/"
        },
        "outputId": "0e2d1295-da8c-47a8-87a8-841a795ea701"
      },
      "execution_count": 132,
      "outputs": [
        {
          "output_type": "stream",
          "name": "stdout",
          "text": [
            "Epoch 1/200\n",
            "92/92 [==============================] - 8s 40ms/step - loss: 1.3495 - accuracy: 0.3958 - val_loss: 1.1841 - val_accuracy: 0.5313\n",
            "Epoch 2/200\n",
            "92/92 [==============================] - 2s 26ms/step - loss: 1.1376 - accuracy: 0.5266 - val_loss: 1.0397 - val_accuracy: 0.5586\n",
            "Epoch 3/200\n",
            "92/92 [==============================] - 2s 26ms/step - loss: 1.0447 - accuracy: 0.5800 - val_loss: 0.9634 - val_accuracy: 0.6390\n",
            "Epoch 4/200\n",
            "92/92 [==============================] - 2s 26ms/step - loss: 0.9723 - accuracy: 0.6076 - val_loss: 0.8722 - val_accuracy: 0.6689\n",
            "Epoch 5/200\n",
            "92/92 [==============================] - 3s 28ms/step - loss: 0.9196 - accuracy: 0.6366 - val_loss: 0.8283 - val_accuracy: 0.6921\n",
            "Epoch 6/200\n",
            "92/92 [==============================] - 2s 27ms/step - loss: 0.9106 - accuracy: 0.6427 - val_loss: 0.9058 - val_accuracy: 0.6417\n",
            "Epoch 7/200\n",
            "92/92 [==============================] - 2s 26ms/step - loss: 0.9126 - accuracy: 0.6413 - val_loss: 0.8505 - val_accuracy: 0.6649\n",
            "Epoch 8/200\n",
            "92/92 [==============================] - 2s 26ms/step - loss: 0.8945 - accuracy: 0.6420 - val_loss: 0.9333 - val_accuracy: 0.6349\n",
            "Epoch 9/200\n",
            "92/92 [==============================] - 2s 26ms/step - loss: 0.8490 - accuracy: 0.6642 - val_loss: 0.7884 - val_accuracy: 0.7139\n",
            "Epoch 10/200\n",
            "92/92 [==============================] - 2s 26ms/step - loss: 0.8325 - accuracy: 0.6812 - val_loss: 0.7926 - val_accuracy: 0.7084\n",
            "Epoch 11/200\n",
            "92/92 [==============================] - 2s 26ms/step - loss: 0.8149 - accuracy: 0.6754 - val_loss: 0.8096 - val_accuracy: 0.7030\n",
            "Epoch 12/200\n",
            "92/92 [==============================] - 2s 26ms/step - loss: 0.8130 - accuracy: 0.6737 - val_loss: 0.7807 - val_accuracy: 0.7071\n",
            "Epoch 13/200\n",
            "92/92 [==============================] - 2s 26ms/step - loss: 0.8065 - accuracy: 0.6764 - val_loss: 0.7553 - val_accuracy: 0.7153\n",
            "Epoch 14/200\n",
            "92/92 [==============================] - 2s 26ms/step - loss: 0.8109 - accuracy: 0.6785 - val_loss: 0.8345 - val_accuracy: 0.6989\n",
            "Epoch 15/200\n",
            "92/92 [==============================] - 2s 26ms/step - loss: 0.7858 - accuracy: 0.6832 - val_loss: 0.8151 - val_accuracy: 0.6989\n",
            "Epoch 16/200\n",
            "92/92 [==============================] - 2s 26ms/step - loss: 0.7667 - accuracy: 0.6935 - val_loss: 0.7760 - val_accuracy: 0.7003\n",
            "Epoch 17/200\n",
            "92/92 [==============================] - 2s 26ms/step - loss: 0.7642 - accuracy: 0.6931 - val_loss: 0.7945 - val_accuracy: 0.7084\n",
            "Epoch 18/200\n",
            "92/92 [==============================] - 2s 26ms/step - loss: 0.7365 - accuracy: 0.7091 - val_loss: 0.7635 - val_accuracy: 0.7193\n",
            "Epoch 19/200\n",
            "92/92 [==============================] - 2s 26ms/step - loss: 0.7865 - accuracy: 0.6907 - val_loss: 0.7446 - val_accuracy: 0.7003\n",
            "Epoch 20/200\n",
            "92/92 [==============================] - 2s 26ms/step - loss: 0.7460 - accuracy: 0.7081 - val_loss: 0.6960 - val_accuracy: 0.7343\n",
            "Epoch 21/200\n",
            "92/92 [==============================] - 2s 26ms/step - loss: 0.7212 - accuracy: 0.7187 - val_loss: 0.6848 - val_accuracy: 0.7439\n",
            "Epoch 22/200\n",
            "92/92 [==============================] - 2s 26ms/step - loss: 0.7160 - accuracy: 0.7183 - val_loss: 0.7346 - val_accuracy: 0.7275\n",
            "Epoch 23/200\n",
            "92/92 [==============================] - 2s 26ms/step - loss: 0.7290 - accuracy: 0.7149 - val_loss: 0.6877 - val_accuracy: 0.7452\n",
            "Epoch 24/200\n",
            "92/92 [==============================] - 2s 26ms/step - loss: 0.6949 - accuracy: 0.7323 - val_loss: 0.7060 - val_accuracy: 0.7262\n",
            "Epoch 25/200\n",
            "92/92 [==============================] - 2s 26ms/step - loss: 0.6975 - accuracy: 0.7296 - val_loss: 0.7696 - val_accuracy: 0.7180\n",
            "Epoch 26/200\n",
            "92/92 [==============================] - 2s 26ms/step - loss: 0.7090 - accuracy: 0.7221 - val_loss: 0.7195 - val_accuracy: 0.7248\n",
            "Epoch 27/200\n",
            "92/92 [==============================] - 2s 26ms/step - loss: 0.6788 - accuracy: 0.7367 - val_loss: 0.7288 - val_accuracy: 0.7384\n",
            "Epoch 28/200\n",
            "92/92 [==============================] - 2s 26ms/step - loss: 0.6733 - accuracy: 0.7302 - val_loss: 0.6759 - val_accuracy: 0.7534\n",
            "Epoch 29/200\n",
            "92/92 [==============================] - 2s 26ms/step - loss: 0.6714 - accuracy: 0.7337 - val_loss: 0.6726 - val_accuracy: 0.7466\n",
            "Epoch 30/200\n",
            "92/92 [==============================] - 2s 26ms/step - loss: 0.6742 - accuracy: 0.7357 - val_loss: 0.6639 - val_accuracy: 0.7425\n",
            "Epoch 31/200\n",
            "92/92 [==============================] - 2s 26ms/step - loss: 0.6606 - accuracy: 0.7354 - val_loss: 0.6850 - val_accuracy: 0.7398\n",
            "Epoch 32/200\n",
            "92/92 [==============================] - 2s 26ms/step - loss: 0.6535 - accuracy: 0.7480 - val_loss: 0.6460 - val_accuracy: 0.7561\n",
            "Epoch 33/200\n",
            "92/92 [==============================] - 2s 26ms/step - loss: 0.6606 - accuracy: 0.7428 - val_loss: 0.6627 - val_accuracy: 0.7602\n",
            "Epoch 34/200\n",
            "92/92 [==============================] - 2s 26ms/step - loss: 0.6174 - accuracy: 0.7548 - val_loss: 0.6685 - val_accuracy: 0.7439\n",
            "Epoch 35/200\n",
            "92/92 [==============================] - 2s 26ms/step - loss: 0.6295 - accuracy: 0.7497 - val_loss: 0.7166 - val_accuracy: 0.7466\n",
            "Epoch 36/200\n",
            "92/92 [==============================] - 2s 26ms/step - loss: 0.6284 - accuracy: 0.7592 - val_loss: 0.6955 - val_accuracy: 0.7466\n",
            "Epoch 37/200\n",
            "92/92 [==============================] - 2s 26ms/step - loss: 0.6381 - accuracy: 0.7439 - val_loss: 0.6395 - val_accuracy: 0.7520\n",
            "Epoch 38/200\n",
            "92/92 [==============================] - 2s 27ms/step - loss: 0.6239 - accuracy: 0.7514 - val_loss: 0.6985 - val_accuracy: 0.7548\n",
            "Epoch 39/200\n",
            "92/92 [==============================] - 3s 28ms/step - loss: 0.6077 - accuracy: 0.7534 - val_loss: 0.6466 - val_accuracy: 0.7616\n",
            "Epoch 40/200\n",
            "92/92 [==============================] - 2s 27ms/step - loss: 0.5957 - accuracy: 0.7663 - val_loss: 0.6452 - val_accuracy: 0.7629\n",
            "Epoch 41/200\n",
            "92/92 [==============================] - 2s 26ms/step - loss: 0.5861 - accuracy: 0.7725 - val_loss: 0.6473 - val_accuracy: 0.7575\n",
            "Epoch 42/200\n",
            "92/92 [==============================] - 2s 26ms/step - loss: 0.6142 - accuracy: 0.7554 - val_loss: 0.6626 - val_accuracy: 0.7670\n",
            "Epoch 43/200\n",
            "92/92 [==============================] - 2s 26ms/step - loss: 0.5994 - accuracy: 0.7633 - val_loss: 0.6133 - val_accuracy: 0.7807\n",
            "Epoch 44/200\n",
            "92/92 [==============================] - 2s 26ms/step - loss: 0.5796 - accuracy: 0.7769 - val_loss: 0.6371 - val_accuracy: 0.7616\n",
            "Epoch 45/200\n",
            "92/92 [==============================] - 2s 26ms/step - loss: 0.5858 - accuracy: 0.7568 - val_loss: 0.7006 - val_accuracy: 0.7398\n",
            "Epoch 46/200\n",
            "92/92 [==============================] - 2s 26ms/step - loss: 0.5729 - accuracy: 0.7755 - val_loss: 0.6579 - val_accuracy: 0.7684\n",
            "Epoch 47/200\n",
            "92/92 [==============================] - 2s 26ms/step - loss: 0.5889 - accuracy: 0.7646 - val_loss: 0.6208 - val_accuracy: 0.7629\n",
            "Epoch 48/200\n",
            "92/92 [==============================] - 2s 26ms/step - loss: 0.5743 - accuracy: 0.7698 - val_loss: 0.6150 - val_accuracy: 0.7834\n",
            "Epoch 49/200\n",
            "92/92 [==============================] - 2s 26ms/step - loss: 0.5770 - accuracy: 0.7704 - val_loss: 0.6745 - val_accuracy: 0.7752\n",
            "Epoch 50/200\n",
            "92/92 [==============================] - 2s 27ms/step - loss: 0.5417 - accuracy: 0.7800 - val_loss: 0.6472 - val_accuracy: 0.7629\n",
            "Epoch 51/200\n",
            "92/92 [==============================] - 2s 26ms/step - loss: 0.5447 - accuracy: 0.7939 - val_loss: 0.6381 - val_accuracy: 0.7657\n",
            "Epoch 52/200\n",
            "92/92 [==============================] - 2s 26ms/step - loss: 0.5370 - accuracy: 0.7830 - val_loss: 0.7165 - val_accuracy: 0.7452\n",
            "Epoch 53/200\n",
            "92/92 [==============================] - 2s 26ms/step - loss: 0.5459 - accuracy: 0.7827 - val_loss: 0.6005 - val_accuracy: 0.7711\n",
            "Epoch 54/200\n",
            "92/92 [==============================] - 2s 26ms/step - loss: 0.5508 - accuracy: 0.7772 - val_loss: 0.6524 - val_accuracy: 0.7548\n",
            "Epoch 55/200\n",
            "92/92 [==============================] - 2s 26ms/step - loss: 0.5387 - accuracy: 0.7830 - val_loss: 0.6385 - val_accuracy: 0.7861\n",
            "Epoch 56/200\n",
            "92/92 [==============================] - 2s 26ms/step - loss: 0.5374 - accuracy: 0.7892 - val_loss: 0.6145 - val_accuracy: 0.7943\n",
            "Epoch 57/200\n",
            "92/92 [==============================] - 2s 26ms/step - loss: 0.4922 - accuracy: 0.8028 - val_loss: 0.6470 - val_accuracy: 0.7861\n",
            "Epoch 58/200\n",
            "92/92 [==============================] - 2s 26ms/step - loss: 0.5158 - accuracy: 0.8042 - val_loss: 0.6128 - val_accuracy: 0.7847\n",
            "Epoch 59/200\n",
            "92/92 [==============================] - 2s 26ms/step - loss: 0.5370 - accuracy: 0.7824 - val_loss: 0.6142 - val_accuracy: 0.7793\n",
            "Epoch 60/200\n",
            "92/92 [==============================] - 2s 26ms/step - loss: 0.5087 - accuracy: 0.7953 - val_loss: 0.6273 - val_accuracy: 0.7861\n",
            "Epoch 61/200\n",
            "92/92 [==============================] - 2s 26ms/step - loss: 0.5551 - accuracy: 0.7800 - val_loss: 0.6094 - val_accuracy: 0.7793\n",
            "Epoch 62/200\n",
            "92/92 [==============================] - 2s 26ms/step - loss: 0.5127 - accuracy: 0.7977 - val_loss: 0.5976 - val_accuracy: 0.7916\n",
            "Epoch 63/200\n",
            "92/92 [==============================] - 2s 26ms/step - loss: 0.4876 - accuracy: 0.8089 - val_loss: 0.6179 - val_accuracy: 0.7847\n",
            "Epoch 64/200\n",
            "92/92 [==============================] - 2s 26ms/step - loss: 0.5469 - accuracy: 0.7807 - val_loss: 0.6845 - val_accuracy: 0.7698\n",
            "Epoch 65/200\n",
            "92/92 [==============================] - 2s 27ms/step - loss: 0.4985 - accuracy: 0.8007 - val_loss: 0.6238 - val_accuracy: 0.7820\n",
            "Epoch 66/200\n",
            "92/92 [==============================] - 2s 26ms/step - loss: 0.4859 - accuracy: 0.8072 - val_loss: 0.5975 - val_accuracy: 0.7943\n",
            "Epoch 67/200\n",
            "92/92 [==============================] - 2s 26ms/step - loss: 0.4696 - accuracy: 0.8168 - val_loss: 0.6270 - val_accuracy: 0.7875\n",
            "Epoch 68/200\n",
            "92/92 [==============================] - 2s 26ms/step - loss: 0.4776 - accuracy: 0.8082 - val_loss: 0.6823 - val_accuracy: 0.7698\n",
            "Epoch 69/200\n",
            "92/92 [==============================] - 2s 26ms/step - loss: 0.5065 - accuracy: 0.8004 - val_loss: 0.6056 - val_accuracy: 0.7861\n",
            "Epoch 70/200\n",
            "92/92 [==============================] - 2s 26ms/step - loss: 0.4765 - accuracy: 0.8123 - val_loss: 0.6796 - val_accuracy: 0.7602\n",
            "Epoch 71/200\n",
            "92/92 [==============================] - 2s 26ms/step - loss: 0.4968 - accuracy: 0.7980 - val_loss: 0.6253 - val_accuracy: 0.7875\n",
            "Epoch 72/200\n",
            "92/92 [==============================] - 3s 29ms/step - loss: 0.4677 - accuracy: 0.8130 - val_loss: 0.5857 - val_accuracy: 0.7984\n",
            "Epoch 73/200\n",
            "92/92 [==============================] - 2s 27ms/step - loss: 0.4739 - accuracy: 0.8086 - val_loss: 0.5734 - val_accuracy: 0.8106\n",
            "Epoch 74/200\n",
            "92/92 [==============================] - 2s 26ms/step - loss: 0.4664 - accuracy: 0.8191 - val_loss: 0.5976 - val_accuracy: 0.7793\n",
            "Epoch 75/200\n",
            "92/92 [==============================] - 2s 26ms/step - loss: 0.4694 - accuracy: 0.8106 - val_loss: 0.6481 - val_accuracy: 0.7888\n",
            "Epoch 77/200\n",
            "92/92 [==============================] - 2s 26ms/step - loss: 0.4653 - accuracy: 0.8191 - val_loss: 0.6313 - val_accuracy: 0.7766\n",
            "Epoch 78/200\n",
            "92/92 [==============================] - 2s 26ms/step - loss: 0.4499 - accuracy: 0.8215 - val_loss: 0.6416 - val_accuracy: 0.7847\n",
            "Epoch 79/200\n",
            "92/92 [==============================] - 2s 27ms/step - loss: 0.4474 - accuracy: 0.8232 - val_loss: 0.7070 - val_accuracy: 0.7616\n",
            "Epoch 80/200\n",
            "92/92 [==============================] - 2s 27ms/step - loss: 0.4560 - accuracy: 0.8195 - val_loss: 0.7525 - val_accuracy: 0.7534\n",
            "Epoch 81/200\n",
            "92/92 [==============================] - 2s 27ms/step - loss: 0.4613 - accuracy: 0.8188 - val_loss: 0.6228 - val_accuracy: 0.7847\n",
            "Epoch 82/200\n",
            "92/92 [==============================] - 2s 26ms/step - loss: 0.4455 - accuracy: 0.8219 - val_loss: 0.6685 - val_accuracy: 0.7807\n",
            "Epoch 83/200\n",
            "92/92 [==============================] - 2s 26ms/step - loss: 0.4308 - accuracy: 0.8225 - val_loss: 0.6117 - val_accuracy: 0.7847\n",
            "Epoch 84/200\n",
            "92/92 [==============================] - 2s 26ms/step - loss: 0.4283 - accuracy: 0.8372 - val_loss: 0.7417 - val_accuracy: 0.7548\n",
            "Epoch 85/200\n",
            "92/92 [==============================] - 2s 26ms/step - loss: 0.4423 - accuracy: 0.8225 - val_loss: 0.6293 - val_accuracy: 0.7834\n",
            "Epoch 86/200\n",
            "92/92 [==============================] - 2s 27ms/step - loss: 0.4177 - accuracy: 0.8307 - val_loss: 0.7401 - val_accuracy: 0.7902\n",
            "Epoch 87/200\n",
            "92/92 [==============================] - 2s 26ms/step - loss: 0.4613 - accuracy: 0.8178 - val_loss: 0.5973 - val_accuracy: 0.7902\n",
            "Epoch 88/200\n",
            "92/92 [==============================] - 2s 26ms/step - loss: 0.4157 - accuracy: 0.8365 - val_loss: 0.7442 - val_accuracy: 0.7711\n",
            "Epoch 89/200\n",
            "92/92 [==============================] - 2s 26ms/step - loss: 0.4202 - accuracy: 0.8324 - val_loss: 0.7637 - val_accuracy: 0.7643\n",
            "Epoch 90/200\n",
            "92/92 [==============================] - 2s 26ms/step - loss: 0.4215 - accuracy: 0.8351 - val_loss: 0.6175 - val_accuracy: 0.7847\n",
            "Epoch 91/200\n",
            "92/92 [==============================] - 2s 27ms/step - loss: 0.4079 - accuracy: 0.8420 - val_loss: 0.5865 - val_accuracy: 0.8025\n",
            "Epoch 92/200\n",
            "92/92 [==============================] - 2s 27ms/step - loss: 0.4159 - accuracy: 0.8403 - val_loss: 0.5924 - val_accuracy: 0.8093\n",
            "Epoch 93/200\n",
            "92/92 [==============================] - 2s 27ms/step - loss: 0.4219 - accuracy: 0.8331 - val_loss: 0.6172 - val_accuracy: 0.7984\n",
            "Epoch 94/200\n",
            "92/92 [==============================] - 2s 27ms/step - loss: 0.4229 - accuracy: 0.8300 - val_loss: 0.6331 - val_accuracy: 0.7779\n",
            "Epoch 95/200\n",
            "92/92 [==============================] - 2s 27ms/step - loss: 0.3993 - accuracy: 0.8416 - val_loss: 0.6609 - val_accuracy: 0.7698\n",
            "Epoch 96/200\n",
            "92/92 [==============================] - 2s 27ms/step - loss: 0.4083 - accuracy: 0.8369 - val_loss: 0.6446 - val_accuracy: 0.7970\n",
            "Epoch 97/200\n",
            "92/92 [==============================] - 2s 27ms/step - loss: 0.4053 - accuracy: 0.8495 - val_loss: 0.6532 - val_accuracy: 0.7766\n",
            "Epoch 98/200\n",
            "92/92 [==============================] - 2s 27ms/step - loss: 0.4071 - accuracy: 0.8389 - val_loss: 0.6409 - val_accuracy: 0.7970\n",
            "Epoch 99/200\n",
            "92/92 [==============================] - 2s 26ms/step - loss: 0.3966 - accuracy: 0.8481 - val_loss: 0.5696 - val_accuracy: 0.7970\n",
            "Epoch 100/200\n",
            "92/92 [==============================] - 2s 27ms/step - loss: 0.3998 - accuracy: 0.8399 - val_loss: 0.6235 - val_accuracy: 0.7684\n",
            "Epoch 101/200\n",
            "92/92 [==============================] - 2s 26ms/step - loss: 0.4122 - accuracy: 0.8379 - val_loss: 0.6234 - val_accuracy: 0.7916\n",
            "Epoch 102/200\n",
            "92/92 [==============================] - 2s 26ms/step - loss: 0.3988 - accuracy: 0.8440 - val_loss: 0.5929 - val_accuracy: 0.7916\n",
            "Epoch 103/200\n",
            "92/92 [==============================] - 2s 26ms/step - loss: 0.4205 - accuracy: 0.8324 - val_loss: 0.6551 - val_accuracy: 0.7847\n",
            "Epoch 104/200\n",
            "92/92 [==============================] - 2s 26ms/step - loss: 0.3986 - accuracy: 0.8437 - val_loss: 0.6151 - val_accuracy: 0.7984\n",
            "Epoch 105/200\n",
            "92/92 [==============================] - 3s 28ms/step - loss: 0.3916 - accuracy: 0.8420 - val_loss: 0.7156 - val_accuracy: 0.7725\n",
            "Epoch 106/200\n",
            "92/92 [==============================] - 3s 28ms/step - loss: 0.3776 - accuracy: 0.8512 - val_loss: 0.6727 - val_accuracy: 0.8038\n",
            "Epoch 107/200\n",
            "92/92 [==============================] - 3s 27ms/step - loss: 0.3814 - accuracy: 0.8498 - val_loss: 0.5806 - val_accuracy: 0.8147\n",
            "Epoch 108/200\n",
            "92/92 [==============================] - 2s 27ms/step - loss: 0.3689 - accuracy: 0.8563 - val_loss: 0.6551 - val_accuracy: 0.7997\n",
            "Epoch 109/200\n",
            "92/92 [==============================] - 2s 26ms/step - loss: 0.3940 - accuracy: 0.8443 - val_loss: 0.6426 - val_accuracy: 0.7929\n",
            "Epoch 110/200\n",
            "92/92 [==============================] - 2s 26ms/step - loss: 0.4009 - accuracy: 0.8457 - val_loss: 0.6448 - val_accuracy: 0.7916\n",
            "Epoch 111/200\n",
            "92/92 [==============================] - 2s 26ms/step - loss: 0.3832 - accuracy: 0.8525 - val_loss: 0.6445 - val_accuracy: 0.7602\n",
            "Epoch 112/200\n",
            "92/92 [==============================] - 2s 26ms/step - loss: 0.3829 - accuracy: 0.8542 - val_loss: 0.6074 - val_accuracy: 0.7956\n",
            "Epoch 113/200\n",
            "92/92 [==============================] - 2s 27ms/step - loss: 0.3878 - accuracy: 0.8488 - val_loss: 0.6121 - val_accuracy: 0.8106\n",
            "Epoch 114/200\n",
            "92/92 [==============================] - 2s 27ms/step - loss: 0.3771 - accuracy: 0.8495 - val_loss: 0.6594 - val_accuracy: 0.7861\n",
            "Epoch 115/200\n",
            "92/92 [==============================] - 2s 27ms/step - loss: 0.3743 - accuracy: 0.8512 - val_loss: 0.6272 - val_accuracy: 0.7888\n",
            "Epoch 116/200\n",
            "92/92 [==============================] - 2s 27ms/step - loss: 0.3935 - accuracy: 0.8409 - val_loss: 0.5879 - val_accuracy: 0.8147\n",
            "Epoch 117/200\n",
            "92/92 [==============================] - 2s 26ms/step - loss: 0.3900 - accuracy: 0.8450 - val_loss: 0.6434 - val_accuracy: 0.7738\n",
            "Epoch 118/200\n",
            "92/92 [==============================] - 2s 27ms/step - loss: 0.3524 - accuracy: 0.8638 - val_loss: 0.5891 - val_accuracy: 0.8038\n",
            "Epoch 119/200\n",
            "92/92 [==============================] - 2s 26ms/step - loss: 0.3518 - accuracy: 0.8607 - val_loss: 0.7328 - val_accuracy: 0.7793\n",
            "Epoch 120/200\n",
            "92/92 [==============================] - 2s 26ms/step - loss: 0.3392 - accuracy: 0.8593 - val_loss: 0.6770 - val_accuracy: 0.7861\n",
            "Epoch 121/200\n",
            "92/92 [==============================] - 2s 27ms/step - loss: 0.3799 - accuracy: 0.8552 - val_loss: 0.6091 - val_accuracy: 0.8079\n",
            "Epoch 122/200\n",
            "92/92 [==============================] - 2s 26ms/step - loss: 0.3860 - accuracy: 0.8501 - val_loss: 0.7849 - val_accuracy: 0.7820\n",
            "Epoch 123/200\n",
            "92/92 [==============================] - 2s 27ms/step - loss: 0.3520 - accuracy: 0.8587 - val_loss: 0.7020 - val_accuracy: 0.7752\n",
            "Epoch 124/200\n",
            "92/92 [==============================] - 2s 26ms/step - loss: 0.3499 - accuracy: 0.8682 - val_loss: 0.6897 - val_accuracy: 0.7956\n",
            "Epoch 125/200\n",
            "92/92 [==============================] - 2s 27ms/step - loss: 0.3792 - accuracy: 0.8552 - val_loss: 0.6882 - val_accuracy: 0.7766\n",
            "Epoch 126/200\n",
            "92/92 [==============================] - 2s 27ms/step - loss: 0.3576 - accuracy: 0.8614 - val_loss: 0.6888 - val_accuracy: 0.7766\n",
            "Epoch 127/200\n",
            "92/92 [==============================] - 2s 27ms/step - loss: 0.3745 - accuracy: 0.8576 - val_loss: 0.6499 - val_accuracy: 0.8120\n",
            "Epoch 128/200\n",
            "92/92 [==============================] - 2s 27ms/step - loss: 0.3668 - accuracy: 0.8525 - val_loss: 0.7522 - val_accuracy: 0.7766\n",
            "Epoch 129/200\n",
            "92/92 [==============================] - 2s 27ms/step - loss: 0.3461 - accuracy: 0.8655 - val_loss: 0.6238 - val_accuracy: 0.8079\n",
            "Epoch 130/200\n",
            "92/92 [==============================] - 2s 27ms/step - loss: 0.3501 - accuracy: 0.8685 - val_loss: 0.5794 - val_accuracy: 0.8065\n",
            "Epoch 131/200\n",
            "92/92 [==============================] - 2s 27ms/step - loss: 0.3476 - accuracy: 0.8614 - val_loss: 0.7317 - val_accuracy: 0.7820\n",
            "Epoch 132/200\n",
            "92/92 [==============================] - 2s 27ms/step - loss: 0.3597 - accuracy: 0.8546 - val_loss: 0.7664 - val_accuracy: 0.7956\n",
            "Epoch 133/200\n",
            "92/92 [==============================] - 2s 26ms/step - loss: 0.3427 - accuracy: 0.8706 - val_loss: 0.6903 - val_accuracy: 0.7929\n",
            "Epoch 134/200\n",
            "92/92 [==============================] - 2s 26ms/step - loss: 0.3571 - accuracy: 0.8638 - val_loss: 0.6398 - val_accuracy: 0.8011\n",
            "Epoch 135/200\n",
            "92/92 [==============================] - 2s 26ms/step - loss: 0.3623 - accuracy: 0.8604 - val_loss: 0.5998 - val_accuracy: 0.8215\n",
            "Epoch 136/200\n",
            "92/92 [==============================] - 2s 26ms/step - loss: 0.3073 - accuracy: 0.8777 - val_loss: 0.6388 - val_accuracy: 0.8065\n",
            "Epoch 137/200\n",
            "92/92 [==============================] - 2s 26ms/step - loss: 0.3567 - accuracy: 0.8672 - val_loss: 0.7080 - val_accuracy: 0.7738\n",
            "Epoch 138/200\n",
            "92/92 [==============================] - 2s 26ms/step - loss: 0.3686 - accuracy: 0.8610 - val_loss: 0.6859 - val_accuracy: 0.7847\n",
            "Epoch 139/200\n",
            "92/92 [==============================] - 3s 28ms/step - loss: 0.3700 - accuracy: 0.8590 - val_loss: 0.6541 - val_accuracy: 0.8188\n",
            "Epoch 140/200\n",
            "92/92 [==============================] - 2s 27ms/step - loss: 0.3528 - accuracy: 0.8600 - val_loss: 0.6301 - val_accuracy: 0.7888\n",
            "Epoch 141/200\n",
            "92/92 [==============================] - 2s 26ms/step - loss: 0.3208 - accuracy: 0.8787 - val_loss: 0.6948 - val_accuracy: 0.8065\n",
            "Epoch 142/200\n",
            "92/92 [==============================] - 2s 26ms/step - loss: 0.3404 - accuracy: 0.8726 - val_loss: 0.6360 - val_accuracy: 0.7902\n",
            "Epoch 143/200\n",
            "92/92 [==============================] - 2s 26ms/step - loss: 0.3385 - accuracy: 0.8627 - val_loss: 0.6559 - val_accuracy: 0.7970\n",
            "Epoch 144/200\n",
            "92/92 [==============================] - 2s 27ms/step - loss: 0.3585 - accuracy: 0.8593 - val_loss: 0.6464 - val_accuracy: 0.8025\n",
            "Epoch 145/200\n",
            "92/92 [==============================] - 2s 26ms/step - loss: 0.3118 - accuracy: 0.8839 - val_loss: 0.6603 - val_accuracy: 0.7861\n",
            "Epoch 146/200\n",
            "92/92 [==============================] - 2s 26ms/step - loss: 0.3389 - accuracy: 0.8713 - val_loss: 0.6659 - val_accuracy: 0.8025\n",
            "Epoch 147/200\n",
            "92/92 [==============================] - 2s 26ms/step - loss: 0.3360 - accuracy: 0.8692 - val_loss: 0.6391 - val_accuracy: 0.7943\n",
            "Epoch 148/200\n",
            "92/92 [==============================] - 2s 26ms/step - loss: 0.3416 - accuracy: 0.8682 - val_loss: 0.5730 - val_accuracy: 0.8161\n",
            "Epoch 149/200\n",
            "92/92 [==============================] - 2s 26ms/step - loss: 0.3478 - accuracy: 0.8682 - val_loss: 0.6466 - val_accuracy: 0.7929\n",
            "Epoch 150/200\n",
            "92/92 [==============================] - 2s 26ms/step - loss: 0.2971 - accuracy: 0.8842 - val_loss: 0.5625 - val_accuracy: 0.8338\n",
            "Epoch 151/200\n",
            "92/92 [==============================] - 2s 26ms/step - loss: 0.3035 - accuracy: 0.8784 - val_loss: 0.7718 - val_accuracy: 0.8065\n",
            "Epoch 152/200\n",
            "92/92 [==============================] - 2s 26ms/step - loss: 0.2864 - accuracy: 0.8852 - val_loss: 0.5886 - val_accuracy: 0.8324\n",
            "Epoch 153/200\n",
            "92/92 [==============================] - 2s 26ms/step - loss: 0.3183 - accuracy: 0.8822 - val_loss: 0.6568 - val_accuracy: 0.8106\n",
            "Epoch 154/200\n",
            "92/92 [==============================] - 2s 27ms/step - loss: 0.3102 - accuracy: 0.8801 - val_loss: 0.7093 - val_accuracy: 0.8052\n",
            "Epoch 155/200\n",
            "92/92 [==============================] - 2s 26ms/step - loss: 0.3246 - accuracy: 0.8665 - val_loss: 0.7192 - val_accuracy: 0.8025\n",
            "Epoch 156/200\n",
            "92/92 [==============================] - 2s 26ms/step - loss: 0.3066 - accuracy: 0.8876 - val_loss: 0.6467 - val_accuracy: 0.8174\n",
            "Epoch 157/200\n",
            "92/92 [==============================] - 2s 26ms/step - loss: 0.3127 - accuracy: 0.8760 - val_loss: 0.6896 - val_accuracy: 0.8134\n",
            "Epoch 158/200\n",
            "92/92 [==============================] - 2s 27ms/step - loss: 0.3383 - accuracy: 0.8678 - val_loss: 0.7317 - val_accuracy: 0.7970\n",
            "Epoch 159/200\n",
            "92/92 [==============================] - 2s 27ms/step - loss: 0.3210 - accuracy: 0.8842 - val_loss: 0.6538 - val_accuracy: 0.8147\n",
            "Epoch 160/200\n",
            "92/92 [==============================] - 2s 27ms/step - loss: 0.3107 - accuracy: 0.8839 - val_loss: 0.6508 - val_accuracy: 0.7997\n",
            "Epoch 161/200\n",
            "92/92 [==============================] - 2s 26ms/step - loss: 0.3438 - accuracy: 0.8736 - val_loss: 0.6136 - val_accuracy: 0.8093\n",
            "Epoch 162/200\n",
            "92/92 [==============================] - 2s 26ms/step - loss: 0.2923 - accuracy: 0.8842 - val_loss: 0.7446 - val_accuracy: 0.7984\n",
            "Epoch 163/200\n",
            "92/92 [==============================] - 2s 26ms/step - loss: 0.2919 - accuracy: 0.8859 - val_loss: 0.6918 - val_accuracy: 0.8079\n",
            "Epoch 164/200\n",
            "92/92 [==============================] - 2s 26ms/step - loss: 0.3081 - accuracy: 0.8876 - val_loss: 0.5955 - val_accuracy: 0.8215\n",
            "Epoch 165/200\n",
            "92/92 [==============================] - 2s 26ms/step - loss: 0.3086 - accuracy: 0.8869 - val_loss: 0.6536 - val_accuracy: 0.8161\n",
            "Epoch 166/200\n",
            "92/92 [==============================] - 2s 26ms/step - loss: 0.3011 - accuracy: 0.8839 - val_loss: 0.6647 - val_accuracy: 0.8065\n",
            "Epoch 167/200\n",
            "92/92 [==============================] - 2s 26ms/step - loss: 0.2820 - accuracy: 0.8968 - val_loss: 0.7100 - val_accuracy: 0.8093\n",
            "Epoch 168/200\n",
            "92/92 [==============================] - 2s 26ms/step - loss: 0.3351 - accuracy: 0.8774 - val_loss: 0.6818 - val_accuracy: 0.7820\n",
            "Epoch 169/200\n",
            "92/92 [==============================] - 2s 26ms/step - loss: 0.3050 - accuracy: 0.8866 - val_loss: 0.6285 - val_accuracy: 0.8079\n",
            "Epoch 170/200\n",
            "92/92 [==============================] - 2s 27ms/step - loss: 0.3095 - accuracy: 0.8890 - val_loss: 0.6420 - val_accuracy: 0.8093\n",
            "Epoch 171/200\n",
            "92/92 [==============================] - 2s 27ms/step - loss: 0.2953 - accuracy: 0.8869 - val_loss: 0.6141 - val_accuracy: 0.8120\n",
            "Epoch 172/200\n",
            "92/92 [==============================] - 3s 28ms/step - loss: 0.2639 - accuracy: 0.9029 - val_loss: 0.6182 - val_accuracy: 0.8161\n",
            "Epoch 173/200\n",
            "92/92 [==============================] - 3s 28ms/step - loss: 0.3058 - accuracy: 0.8862 - val_loss: 0.7553 - val_accuracy: 0.8106\n",
            "Epoch 174/200\n",
            "92/92 [==============================] - 2s 27ms/step - loss: 0.3148 - accuracy: 0.8774 - val_loss: 0.7703 - val_accuracy: 0.7916\n",
            "Epoch 175/200\n",
            "92/92 [==============================] - 2s 26ms/step - loss: 0.3359 - accuracy: 0.8753 - val_loss: 0.7646 - val_accuracy: 0.7902\n",
            "Epoch 176/200\n",
            "92/92 [==============================] - 2s 27ms/step - loss: 0.3108 - accuracy: 0.8828 - val_loss: 0.6283 - val_accuracy: 0.8202\n",
            "Epoch 177/200\n",
            "92/92 [==============================] - 2s 26ms/step - loss: 0.2895 - accuracy: 0.8903 - val_loss: 0.6664 - val_accuracy: 0.8147\n",
            "Epoch 178/200\n",
            "92/92 [==============================] - 2s 26ms/step - loss: 0.3012 - accuracy: 0.8794 - val_loss: 0.5841 - val_accuracy: 0.8215\n",
            "Epoch 179/200\n",
            "92/92 [==============================] - 2s 26ms/step - loss: 0.2897 - accuracy: 0.8852 - val_loss: 0.6582 - val_accuracy: 0.8243\n",
            "Epoch 180/200\n",
            "92/92 [==============================] - 2s 27ms/step - loss: 0.2944 - accuracy: 0.8862 - val_loss: 0.7511 - val_accuracy: 0.7834\n",
            "Epoch 181/200\n",
            "92/92 [==============================] - 2s 27ms/step - loss: 0.3183 - accuracy: 0.8770 - val_loss: 0.6668 - val_accuracy: 0.8079\n",
            "Epoch 182/200\n",
            "92/92 [==============================] - 2s 26ms/step - loss: 0.3078 - accuracy: 0.8845 - val_loss: 0.6302 - val_accuracy: 0.8147\n",
            "Epoch 183/200\n",
            "92/92 [==============================] - 2s 26ms/step - loss: 0.3008 - accuracy: 0.8828 - val_loss: 0.5778 - val_accuracy: 0.8243\n",
            "Epoch 184/200\n",
            "92/92 [==============================] - 2s 26ms/step - loss: 0.3155 - accuracy: 0.8770 - val_loss: 0.6369 - val_accuracy: 0.8215\n",
            "Epoch 185/200\n",
            "92/92 [==============================] - 2s 27ms/step - loss: 0.2797 - accuracy: 0.8917 - val_loss: 0.6768 - val_accuracy: 0.8324\n",
            "Epoch 186/200\n",
            "92/92 [==============================] - 2s 26ms/step - loss: 0.3053 - accuracy: 0.8859 - val_loss: 0.6819 - val_accuracy: 0.7970\n",
            "Epoch 187/200\n",
            "92/92 [==============================] - 2s 26ms/step - loss: 0.2922 - accuracy: 0.8856 - val_loss: 0.6975 - val_accuracy: 0.8161\n",
            "Epoch 188/200\n",
            "92/92 [==============================] - 2s 26ms/step - loss: 0.3168 - accuracy: 0.8798 - val_loss: 0.6815 - val_accuracy: 0.8079\n",
            "Epoch 189/200\n",
            "92/92 [==============================] - 2s 26ms/step - loss: 0.2708 - accuracy: 0.8988 - val_loss: 0.6736 - val_accuracy: 0.8243\n",
            "Epoch 190/200\n",
            "92/92 [==============================] - 2s 26ms/step - loss: 0.3088 - accuracy: 0.8866 - val_loss: 0.6728 - val_accuracy: 0.8011\n",
            "Epoch 191/200\n",
            "92/92 [==============================] - 2s 26ms/step - loss: 0.2913 - accuracy: 0.8893 - val_loss: 0.6902 - val_accuracy: 0.7984\n",
            "Epoch 192/200\n",
            "92/92 [==============================] - 2s 26ms/step - loss: 0.3216 - accuracy: 0.8828 - val_loss: 0.6722 - val_accuracy: 0.8093\n",
            "Epoch 193/200\n",
            "92/92 [==============================] - 2s 26ms/step - loss: 0.2885 - accuracy: 0.8907 - val_loss: 0.6067 - val_accuracy: 0.8270\n",
            "Epoch 194/200\n",
            "92/92 [==============================] - 2s 26ms/step - loss: 0.3107 - accuracy: 0.8873 - val_loss: 0.6908 - val_accuracy: 0.8120\n",
            "Epoch 195/200\n",
            "92/92 [==============================] - 2s 26ms/step - loss: 0.3109 - accuracy: 0.8753 - val_loss: 0.6600 - val_accuracy: 0.7984\n",
            "Epoch 196/200\n",
            "92/92 [==============================] - 2s 26ms/step - loss: 0.2818 - accuracy: 0.8927 - val_loss: 0.6800 - val_accuracy: 0.8065\n",
            "Epoch 197/200\n",
            "92/92 [==============================] - 2s 27ms/step - loss: 0.2729 - accuracy: 0.8941 - val_loss: 0.7106 - val_accuracy: 0.8174\n",
            "Epoch 198/200\n",
            "92/92 [==============================] - 2s 27ms/step - loss: 0.2965 - accuracy: 0.8876 - val_loss: 0.7738 - val_accuracy: 0.7984\n",
            "Epoch 199/200\n",
            "92/92 [==============================] - 2s 26ms/step - loss: 0.2941 - accuracy: 0.8941 - val_loss: 0.7927 - val_accuracy: 0.7929\n",
            "Epoch 200/200\n",
            "92/92 [==============================] - 2s 27ms/step - loss: 0.3194 - accuracy: 0.8784 - val_loss: 0.6900 - val_accuracy: 0.7943\n"
          ]
        }
      ]
    },
    {
      "cell_type": "markdown",
      "source": [
        "This part here is used to actually train the model we built on the training dataset we made earlier and in the same time we monitor the accuracy of our model by using it on our validation dataset."
      ],
      "metadata": {
        "id": "lO3rNCehAl7l"
      }
    },
    {
      "cell_type": "code",
      "source": [
        "plt.plot(history.history['accuracy'], label= 'training accuracy')\n",
        "plt.plot(history.history['val_accuracy'], label= 'validation accuracy')\n",
        "plt.legend(loc= 'lower right')"
      ],
      "metadata": {
        "id": "7hrR_zwkkq_K",
        "colab": {
          "base_uri": "https://localhost:8080/",
          "height": 282
        },
        "outputId": "9fd3a19e-7631-473d-9d1c-ac69c963ab10"
      },
      "execution_count": 133,
      "outputs": [
        {
          "output_type": "execute_result",
          "data": {
            "text/plain": [
              "<matplotlib.legend.Legend at 0x7fa408b2e650>"
            ]
          },
          "metadata": {},
          "execution_count": 133
        },
        {
          "output_type": "display_data",
          "data": {
            "text/plain": [
              "<Figure size 432x288 with 1 Axes>"
            ],
            "image/png": "[encoded data removed]"
          },
          "metadata": {
            "needs_background": "light"
          }
        }
      ]
    },
    {
      "cell_type": "markdown",
      "source": [
        "ploting the graph between the training accuracy and the validation accuracy to see how our model is preforming, to see if there is overfitting or underfitting and where it happened so we can fix it."
      ],
      "metadata": {
        "id": "h3AmZ9vBBRek"
      }
    },
    {
      "cell_type": "code",
      "source": [
        "model.evaluate(val_ds)"
      ],
      "metadata": {
        "colab": {
          "base_uri": "https://localhost:8080/"
        },
        "id": "WsS-z1AlGKBe",
        "outputId": "1e9ebb52-0592-4dce-fbe4-a0f1f5887b52"
      },
      "execution_count": 134,
      "outputs": [
        {
          "output_type": "stream",
          "name": "stdout",
          "text": [
            "23/23 [==============================] - 0s 13ms/step - loss: 0.6900 - accuracy: 0.7943\n"
          ]
        },
        {
          "output_type": "execute_result",
          "data": {
            "text/plain": [
              "[0.6899780631065369, 0.7942779064178467]"
            ]
          },
          "metadata": {},
          "execution_count": 134
        }
      ]
    },
    {
      "cell_type": "markdown",
      "source": [
        "evaluating the accuracy of our model by trying it on our validation dataset.\n",
        "our goal is to minimize the loss and maximize the accuracy."
      ],
      "metadata": {
        "id": "-If8JfuaB5_B"
      }
    },
    {
      "cell_type": "code",
      "source": [
        "im = tf.keras.utils.load_img(list(data_file.glob(\"*/*\"))[500], target_size=(180,180,3)) #loading an image from our folder\n",
        "\n",
        "im_arr = tf.keras.utils.img_to_array(im)   #transforming it to an array \n",
        "\n",
        "im_tensor = tf.expand_dims(im_arr,0)  #adding another dim so i can give it to the machine \n",
        "\n",
        "pred = model.predict(im_tensor) #predicting the class of the image \n",
        "\n",
        "np.argmax(pred)  #showing the result "
      ],
      "metadata": {
        "colab": {
          "base_uri": "https://localhost:8080/"
        },
        "id": "VXafRpi1xxCS",
        "outputId": "5849621d-fe4b-4002-fbbd-ccb981846f26"
      },
      "execution_count": 135,
      "outputs": [
        {
          "output_type": "execute_result",
          "data": {
            "text/plain": [
              "0"
            ]
          },
          "metadata": {},
          "execution_count": 135
        }
      ]
    },
    {
      "cell_type": "markdown",
      "source": [
        "Here we are trying to get the model to predict the class of an image we chose,\n",
        "but we have to prepare the image first.\n",
        "\n",
        "1.   First we need to load our image we used an image from our original dataset, we used the utils.load_img functoin of keras to load the image and also to reshape it to our size of (180,180).\n",
        "2.   The second step was to transform this image to an array.\n",
        "\n",
        "3. If we took a look on our model summary we will find that the input shape of our model is in 4 dimensions so we need to expand the dimensions of our image ,we will do that by using expand_dims function of tensorflow, and but the axis equal to zero to add a dimension in the beginning. \n",
        "4.   Then we used the model to predict the class of our image, and it gives us the result in the form of a probability.\n",
        "\n",
        "5.   This last step is just to transform the probabilities of the image to be from each class to show the number of the class with the highest probaility.\n",
        "\n",
        "\n",
        "\n",
        "\n"
      ],
      "metadata": {
        "id": "xVr-flebCNG2"
      }
    },
    {
      "cell_type": "code",
      "source": [
        " pip install -q -U keras_tuner"
      ],
      "metadata": {
        "colab": {
          "base_uri": "https://localhost:8080/"
        },
        "id": "FtPUB4EfEXOE",
        "outputId": "81f9edda-e2d9-49ee-c597-63f6f0a8e378"
      },
      "execution_count": 136,
      "outputs": [
        {
          "output_type": "stream",
          "name": "stdout",
          "text": [
            "\u001b[?25l\r\u001b[K     |██▍                             | 10 kB 39.8 MB/s eta 0:00:01\r\u001b[K     |████▉                           | 20 kB 8.7 MB/s eta 0:00:01\r\u001b[K     |███████▎                        | 30 kB 7.8 MB/s eta 0:00:01\r\u001b[K     |█████████▋                      | 40 kB 7.5 MB/s eta 0:00:01\r\u001b[K     |████████████                    | 51 kB 4.2 MB/s eta 0:00:01\r\u001b[K     |██████████████▌                 | 61 kB 5.0 MB/s eta 0:00:01\r\u001b[K     |█████████████████               | 71 kB 5.2 MB/s eta 0:00:01\r\u001b[K     |███████████████████▎            | 81 kB 5.5 MB/s eta 0:00:01\r\u001b[K     |█████████████████████▊          | 92 kB 6.1 MB/s eta 0:00:01\r\u001b[K     |████████████████████████▏       | 102 kB 4.8 MB/s eta 0:00:01\r\u001b[K     |██████████████████████████▋     | 112 kB 4.8 MB/s eta 0:00:01\r\u001b[K     |█████████████████████████████   | 122 kB 4.8 MB/s eta 0:00:01\r\u001b[K     |███████████████████████████████▍| 133 kB 4.8 MB/s eta 0:00:01\r\u001b[K     |████████████████████████████████| 135 kB 4.8 MB/s \n",
            "\u001b[?25h"
          ]
        }
      ]
    },
    {
      "cell_type": "markdown",
      "source": [
        "This command downloads the keras tuner library."
      ],
      "metadata": {
        "id": "ImXJ039xEdHs"
      }
    },
    {
      "cell_type": "code",
      "source": [
        "import keras_tuner as kt"
      ],
      "metadata": {
        "id": "zYa2cbRizzMj"
      },
      "execution_count": 137,
      "outputs": []
    },
    {
      "cell_type": "code",
      "source": [
        "def model_builder(hp):  #making a function to build the model\n",
        "  model = tf.keras.Sequential()\n",
        "  model.add(data_augmentation)\n",
        "  model.add(tf.keras.layers.Rescaling(1/255,input_shape= (180,180,3)))\n",
        "\n",
        "  model.add(tf.keras.layers.Conv2D(32,kernel_size= (3,3),padding= 'same',activation= 'relu'))\n",
        "  model.add(tf.keras.layers.MaxPool2D(pool_size= (2,2)))\n",
        "\n",
        "  model.add(tf.keras.layers.Conv2D(64,kernel_size= (3,3),padding= 'same',activation= 'relu'))\n",
        "  model.add(tf.keras.layers.MaxPool2D(pool_size= (2,2)))\n",
        "\n",
        "  model.add(tf.keras.layers.Conv2D(94,kernel_size= (3,3),padding= 'same',activation= 'relu'))\n",
        "  model.add(tf.keras.layers.MaxPool2D(pool_size= (2,2)))\n",
        "\n",
        "  model.add(tf.keras.layers.Flatten())\n",
        "\n",
        "  # try difrent values for no dense hiden layer \n",
        "  lay1 = hp.Int('units' , min_value = 16 , max_value=512 ,step=16)\n",
        "  model.add(tf.keras.layers.Dense(units=lay1,activation='relu'))\n",
        "  model.add(tf.keras.layers.Dropout(.2))\n",
        " \n",
        "  model.add(tf.keras.layers.Dense(5))\n",
        "\n",
        "  hp_learning_rate = hp.Choice('learning_rate' , values = [.01,.001,.0001,.00001] )\n",
        "  model.compile(optimizer= tf.keras.optimizers.Adam(learning_rate=hp_learning_rate, beta_1=0.9, beta_2=0.999) , loss= tf.keras.losses.SparseCategoricalCrossentropy(from_logits=True), metrics = 'accuracy')\n",
        "\n",
        "  return model"
      ],
      "metadata": {
        "id": "7qmQom55z3hs"
      },
      "execution_count": 138,
      "outputs": []
    },
    {
      "cell_type": "markdown",
      "source": [
        "Making a function to build our model and also giving it the values of the parameters we want to try."
      ],
      "metadata": {
        "id": "UKs5b0SgEnZ_"
      }
    },
    {
      "cell_type": "code",
      "source": [
        "tuner = kt.Hyperband(hypermodel= model_builder ,objective= 'val_accuracy', max_epochs= 50) #building the hp tuner "
      ],
      "metadata": {
        "id": "VpPYkpy_z8R3"
      },
      "execution_count": 139,
      "outputs": []
    },
    {
      "cell_type": "markdown",
      "source": [
        "This is our hyperparameter tuner, the goal of this tuner is instead of manually trying each paramter ourself which will be a time consuming process we give the tuner the parameters we want to try and he does that for us then give us the best combination of parameters for our model."
      ],
      "metadata": {
        "id": "fbYOPBviEw1n"
      }
    },
    {
      "cell_type": "code",
      "source": [
        "stop_early = tf.keras.callbacks.EarlyStopping(monitor= 'val_accuracy', patience= 5)  #a method to limit the overfitting "
      ],
      "metadata": {
        "id": "fZiKdI941rkl"
      },
      "execution_count": 140,
      "outputs": []
    },
    {
      "cell_type": "markdown",
      "source": [
        ""
      ],
      "metadata": {
        "id": "cuPdKvYPFPaq"
      }
    },
    {
      "cell_type": "markdown",
      "source": [
        "The early stopping function is just another method to stop overfitting."
      ],
      "metadata": {
        "id": "mrZLv6vEFPca"
      }
    },
    {
      "cell_type": "code",
      "source": [
        "from gc import callbacks\n",
        "tuner.search(train_ds,epochs= 10, validation_data= val_ds, callbacks= [stop_early])  #searching for the best hyperparamters"
      ],
      "metadata": {
        "id": "HVIdXY0u13mh"
      },
      "execution_count": null,
      "outputs": []
    },
    {
      "cell_type": "markdown",
      "source": [
        "Initiating the tuner."
      ],
      "metadata": {
        "id": "vlrDpM62FXav"
      }
    },
    {
      "cell_type": "code",
      "source": [
        ""
      ],
      "metadata": {
        "id": "ZH0dbLmEUkI1"
      },
      "execution_count": null,
      "outputs": []
    }
  ]
}